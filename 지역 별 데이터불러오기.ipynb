{
 "cells": [
  {
   "cell_type": "code",
   "execution_count": 1,
   "metadata": {},
   "outputs": [],
   "source": [
    "import pandas as pd\n",
    "import numpy as np\n",
    "import matplotlib.pyplot as plt\n",
    "# 시각화 라이브러리\n",
    "import seaborn as sns"
   ]
  },
  {
   "cell_type": "code",
   "execution_count": 3,
   "metadata": {},
   "outputs": [],
   "source": [
    "data = pd.read_csv('전국재배면적으로 판단한 재배지 구분-라벨링 뺀값.csv', encoding='cp949')"
   ]
  },
  {
   "cell_type": "markdown",
   "metadata": {},
   "source": [
    "#### 강원도 지역 불러오기"
   ]
  },
  {
   "cell_type": "code",
   "execution_count": 11,
   "metadata": {},
   "outputs": [],
   "source": [
    "Gangwon1 = pd.read_csv('강수량/강원도 - 강릉.csv', encoding='cp949')\n",
    "Gangwon2 = pd.read_csv('강수량/강원도 - 동해,삼척시.csv', encoding='cp949')\n",
    "Gangwon3 = pd.read_csv('강수량/강원도 - 속초,고성군,양양군.csv', encoding='cp949')\n",
    "Gangwon5 = pd.read_csv('강수량/강원도 - 춘천,홍천군,양구군,인제군', encoding='cp949')\n",
    "Gangwon6 = pd.read_csv('강수량/강원도 - 영월.csv', encoding='cp949')\n",
    "Gangwon7 = pd.read_csv('강수량/강원도 - 원주,횡성군.csv', encoding='cp949')\n",
    "Gangwon8 = pd.read_csv('강수량/강원도 - 정선군,영월군,평창군.csv', encoding='cp949')\n",
    "Gangwon9 = pd.read_csv('강수량/강원도 - 철원,화천군.csv', encoding='cp949')\n",
    "Gangwon11 = pd.read_csv('강수량/강원도 - 태백.csv', encoding='cp949')\n",
    "Gangwon12 = pd.read_csv('강수량/강원도 - 홍천.csv', encoding='cp949')"
   ]
  },
  {
   "cell_type": "code",
   "execution_count": 15,
   "metadata": {},
   "outputs": [],
   "source": [
    "Gyeonggi1 = pd.read_csv('강수량/경기도 - 동두천,가평,연천군,의정부,포천.csv', encoding='cp949')\n",
    "Gyeonggi2 = pd.read_csv('강수량/경기도 - 수원,성남,안산시,오산시,용인,의왕시,수원시,화성시,평택.csv', encoding='cp949')\n",
    "Gyeonggi3 = pd.read_csv('강수량/경기도 - 양평,여주.csv', encoding='cp949')\n",
    "Gyeonggi4 = pd.read_csv('강수량/경기도 - 이천,안성.csv', encoding='cp949')\n",
    "Gyeonggi5 = pd.read_csv('강수량/경기도 - 파주,고양,양주.csv', encoding='cp949')\n",
    "Gyeonggi6 = pd.read_csv('강수량/인천광역시 - 인천,경기도 과천시,광명,군포,시흥,안양,부천시.csv', encoding='cp949')\n",
    "Gyeonggi7 = pd.read_csv('강수량/서울특별시 - 서울,광주,구리,남양주,하남시.csv', encoding='cp949')\n",
    "Gyeonggi8 = pd.read_csv('강수량/인천광역시 - 강화,김포시.csv', encoding='cp949')\n"
   ]
  },
  {
   "cell_type": "code",
   "execution_count": 16,
   "metadata": {},
   "outputs": [],
   "source": [
    "Gyeongsangnam1 = pd.read_csv('강수량/경상남도 - 거제.csv', encoding='cp949')\n",
    "Gyeongsangnam2 = pd.read_csv('강수량/경상남도 - 거창,함양군.csv', encoding='cp949')\n",
    "Gyeongsangnam3 = pd.read_csv('강수량/경상남도 - 김해시.csv', encoding='cp949')\n",
    "Gyeongsangnam4 = pd.read_csv('강수량/경상남도 - 남해.csv', encoding='cp949')\n",
    "Gyeongsangnam5 = pd.read_csv('강수량/경상남도 - 밀양,창녕군.csv', encoding='cp949')\n",
    "Gyeongsangnam6 = pd.read_csv('강수량/경상남도 - 북창원.csv', encoding='cp949')\n",
    "Gyeongsangnam7 = pd.read_csv('강수량/경상남도 - 산청.csv', encoding='cp949')\n",
    "Gyeongsangnam8 = pd.read_csv('강수량/경상남도 - 양산시.csv', encoding='cp949')\n",
    "Gyeongsangnam9 = pd.read_csv('강수량/경상남도 - 의령군.csv', encoding='cp949')\n",
    "Gyeongsangnam10 = pd.read_csv('강수량/경상남도 - 진주,서천시.csv', encoding='cp949')\n",
    "Gyeongsangnam11 = pd.read_csv('강수량/경상남도 - 창원,함안군.csv', encoding='cp949')\n",
    "Gyeongsangnam12 = pd.read_csv('강수량/경상남도 - 통영,고성군.csv', encoding='cp949')\n",
    "Gyeongsangnam13 = pd.read_csv('강수량/경상남도 - 함양군.csv', encoding='cp949')\n",
    "Gyeongsangnam14 = pd.read_csv('강수량/경상남도 - 함천,고령군(북).csv', encoding='cp949')\n"
   ]
  },
  {
   "cell_type": "code",
   "execution_count": 17,
   "metadata": {},
   "outputs": [],
   "source": [
    "Gyeongsangbuk1 = pd.read_csv('강수량/경상북도 - 경주시.csv', encoding='cp949')\n",
    "Gyeongsangbuk2 = pd.read_csv('강수량/경상북도 - 구미,군위군,김천시,칠곡군,상주시.csv', encoding='cp949')\n",
    "Gyeongsangbuk3 = pd.read_csv('강수량/경상북도 - 문경,예천군.csv', encoding='cp949')\n",
    "Gyeongsangbuk4 = pd.read_csv('강수량/경상북도 - 봉화.csv', encoding='cp949')\n",
    "Gyeongsangbuk5 = pd.read_csv('강수량/경상북도 - 성주.csv', encoding='cp949')\n",
    "Gyeongsangbuk6 = pd.read_csv('강수량/경상북도 - 안동.csv', encoding='cp949')\n",
    "Gyeongsangbuk7 = pd.read_csv('강수량/경상북도 - 영덕.csv', encoding='cp949')\n",
    "Gyeongsangbuk8 = pd.read_csv('강수량/경상북도 - 영주.csv', encoding='cp949')\n",
    "Gyeongsangbuk9 = pd.read_csv('강수량/경상북도 - 영천.csv', encoding='cp949')\n",
    "Gyeongsangbuk10 = pd.read_csv('강수량/경상북도 - 울릉도.csv', encoding='cp949')\n",
    "Gyeongsangbuk11 = pd.read_csv('강수량/경상북도 - 울진.csv', encoding='cp949')\n",
    "Gyeongsangbuk12 = pd.read_csv('강수량/경상북도 - 의성.csv', encoding='cp949')\n",
    "Gyeongsangbuk13 = pd.read_csv('강수량/경상북도 - 청송군,양양군.csv', encoding='cp949')\n",
    "Gyeongsangbuk14 = pd.read_csv('강수량/경상북도 - 포항,고령군.csv', encoding='cp949')\n",
    "Gyeongsangbuk15 = pd.read_csv('강수량/대구광역시 - 대구,청도군.csv', encoding='cp949')"
   ]
  },
  {
   "cell_type": "code",
   "execution_count": 19,
   "metadata": {},
   "outputs": [],
   "source": [
    "seoul = pd.read_csv('강수량/서울특별시 - 서울,광주,구리,남양주,하남시.csv', encoding='cp949')\n",
    "Gwangju = pd.read_csv('강수량/광주광역시 - 광주,나주시,담양군,장성군,화순군,영암군.csv', encoding='cp949')\n",
    "Daegu = pd.read_csv('강수량/대구광역시 - 대구,청도군.csv', encoding='cp949')\n",
    "Daejeon = pd.read_csv('강수량/대전광역시 - 대전,영동군,옥천군,계룡시.csv', encoding='cp949')\n",
    "Busan = pd.read_csv('강수량/부산광역시 - 부산.csv', encoding='cp949')\n",
    "Sejong = pd.read_csv('강수량/세종특별자치시 - 세종 (잘린 데이터),공주시.csv', encoding='cp949')\n",
    "Ulsan = pd.read_csv('강수량/울산광역시 - 울산.csv', encoding='cp949')\n",
    "Incheon = pd.read_csv('강수량/인천광역시 - 인천,경기도 과천시,광명,군포,시흥,안양,부천시.csv', encoding='cp949')"
   ]
  },
  {
   "cell_type": "code",
   "execution_count": null,
   "metadata": {},
   "outputs": [],
   "source": [
    "Jeollanam1 = pd.read_csv('강수량/전라남도 - 강진군.csv', encoding='cp949')\n",
    "Jeollanam2 = pd.read_csv('강수량/전라남도 - 고흥.csv', encoding='cp949')\n",
    "Jeollanam3 = pd.read_csv('강수량/전라남도 - 광양시.csv', encoding='cp949')\n",
    "Jeollanam4 = pd.read_csv('강수량/광주광역시 - 광주,나주시,담양군,장성군,화순군,영암군.csv', encoding='cp949')\n",
    "Jeollanam5 = pd.read_csv('강수량/전라남도 - 목포,무안군,신안군,함평군.csv', encoding='cp949')\n",
    "Jeollanam6 = pd.read_csv('강수량/전라남도 - 보성군.csv', encoding='cp949')\n",
    "Jeollanam7 = pd.read_csv('강수량/전라남도 - 순천,곡성,구례군.csv', encoding='cp949')\n",
    "Jeollanam8 = pd.read_csv('강수량/전라남도 - 여수.csv', encoding='cp949')\n",
    "Jeollanam9 = pd.read_csv('강수량/전라남도 - 영광군.csv', encoding='cp949')\n",
    "Jeollanam10 = pd.read_csv('강수량/전라남도 - 완도.csv', encoding='cp949')\n",
    "Jeollanam11 = pd.read_csv('강수량/전라남도 - 장흥.csv', encoding='cp949')\n",
    "Jeollanam12 = pd.read_csv('강수량/전라남도 - 진도군.csv', encoding='cp949')\n",
    "Jeollanam13 = pd.read_csv('강수량/전라남도 - 해남.csv', encoding='cp949')\n",
    "Jeollanam14 = pd.read_csv('강수량/전라남도 - 흑산도.csv', encoding='cp949')\n",
    "Jeollanam15 = pd.read_csv('강수량/전라남도 - 진도(첨칠산)(잘린데이터).csv', encoding='cp949')"
   ]
  },
  {
   "cell_type": "code",
   "execution_count": null,
   "metadata": {},
   "outputs": [],
   "source": [
    "Jeollabuk1 = pd.read_csv('강수량/전라북도 - 고창군.csv', encoding='cp949')\n",
    "Jeollabuk2 = pd.read_csv('강수량/전라북도 - 군산.csv', encoding='cp949')\n",
    "Jeollabuk3 = pd.read_csv('강수량/전라북도 - 남원.csv', encoding='cp949')\n",
    "Jeollabuk4 = pd.read_csv('강수량/전라북도 - 부안,김제시.csv', encoding='cp949')\n",
    "Jeollabuk5 = pd.read_csv('강수량/전라남도 - 강진군.csv', encoding='cp949')\n",
    "Jeollabuk6 = pd.read_csv('강수량/전라북도 - 순창군.csv', encoding='cp949')\n",
    "Jeollabuk7 = pd.read_csv('강수량/전라북도 - 임실.csv', encoding='cp949')\n",
    "Jeollabuk8 = pd.read_csv('강수량/전라북도 - 장수,진안군,무주군.csv', encoding='cp949')\n",
    "Jeollabuk9 = pd.read_csv('강수량/전라북도 - 전주,완주군,익산시.csv', encoding='cp949')\n",
    "Jeollabuk10 = pd.read_csv('강수량/전라북도 - 정읍.csv', encoding='cp949')"
   ]
  },
  {
   "cell_type": "code",
   "execution_count": null,
   "metadata": {},
   "outputs": [],
   "source": [
    "Jeju1 = pd.read_csv('강수량/제주도 - 서귀포.csv', encoding='cp949')\n",
    "Jeju1 = pd.read_csv('강수량/제주도 - 제주.csv', encoding='cp949')"
   ]
  },
  {
   "cell_type": "code",
   "execution_count": null,
   "metadata": {},
   "outputs": [],
   "source": [
    "Chungcheongnam1 = pd.read_csv('강수량/충청남도 - 금산.csv', encoding='cp949')\n",
    "Chungcheongnam2 = pd.read_csv('강수량/충청남도 - 보령,서천군.csv', encoding='cp949')\n",
    "Chungcheongnam3 = pd.read_csv('강수량/충청남도 - 부여,논산시.csv', encoding='cp949')    \n",
    "Chungcheongnam4 = pd.read_csv('강수량/충청남도 - 서산,당진.csv', encoding='cp949')    \n",
    "Chungcheongnam5 = pd.read_csv('강수량/충청남도 - 천안,아산시.csv', encoding='cp949')    \n",
    "Chungcheongnam6 = pd.read_csv('강수량/충청남도 - 홍성,예산군,청양군,태안군.csv', encoding='cp949')\n",
    "Chungcheongnam7 = pd.read_csv('강수량/대전광역시 - 대전,영동군,옥천군,계룡시.csv', encoding='cp949')    "
   ]
  },
  {
   "cell_type": "code",
   "execution_count": null,
   "metadata": {},
   "outputs": [],
   "source": [
    "Chungcheongbuk1 = pd.read_csv('강수량/충청북도 - 보은.csv', encoding='cp949')\n",
    "Chungcheongbuk2 = pd.read_csv('강수량/충청북도 - 제천,단양군.csv', encoding='cp949')\n",
    "Chungcheongbuk3 = pd.read_csv('강수량/충청북도 - 청주,증평군,진천군.csv', encoding='cp949')\n",
    "Chungcheongbuk4 = pd.read_csv('강수량/충청북도 - 추풍령.csv', encoding='cp949')\n",
    "Chungcheongbuk5 = pd.read_csv('강수량/충청북도 - 충주,괴산군,음성군.csv', encoding='cp949')"
   ]
  },
  {
   "cell_type": "code",
   "execution_count": null,
   "metadata": {},
   "outputs": [],
   "source": []
  },
  {
   "cell_type": "code",
   "execution_count": null,
   "metadata": {},
   "outputs": [],
   "source": []
  },
  {
   "cell_type": "code",
   "execution_count": 38,
   "metadata": {},
   "outputs": [
    {
     "data": {
      "text/html": [
       "<div>\n",
       "<style scoped>\n",
       "    .dataframe tbody tr th:only-of-type {\n",
       "        vertical-align: middle;\n",
       "    }\n",
       "\n",
       "    .dataframe tbody tr th {\n",
       "        vertical-align: top;\n",
       "    }\n",
       "\n",
       "    .dataframe thead th {\n",
       "        text-align: right;\n",
       "    }\n",
       "</style>\n",
       "<table border=\"1\" class=\"dataframe\">\n",
       "  <thead>\n",
       "    <tr style=\"text-align: right;\">\n",
       "      <th></th>\n",
       "      <th>18-Jan</th>\n",
       "      <th>18-Feb</th>\n",
       "      <th>18-Mar</th>\n",
       "      <th>18-Apr</th>\n",
       "      <th>18-May</th>\n",
       "      <th>18-Jun</th>\n",
       "      <th>18-Jul</th>\n",
       "      <th>18-Aug</th>\n",
       "      <th>18-Sep</th>\n",
       "      <th>18-Oct</th>\n",
       "      <th>...</th>\n",
       "      <th>20-Mar</th>\n",
       "      <th>20-Apr</th>\n",
       "      <th>20-May</th>\n",
       "      <th>20-Jun</th>\n",
       "      <th>20-Jul</th>\n",
       "      <th>20-Aug</th>\n",
       "      <th>20-Sep</th>\n",
       "      <th>20-Oct</th>\n",
       "      <th>20-Nov</th>\n",
       "      <th>20-Dec</th>\n",
       "    </tr>\n",
       "  </thead>\n",
       "  <tbody>\n",
       "    <tr>\n",
       "      <th>0</th>\n",
       "      <td>2.5</td>\n",
       "      <td>52</td>\n",
       "      <td>94</td>\n",
       "      <td>151.4</td>\n",
       "      <td>162.9</td>\n",
       "      <td>38.6</td>\n",
       "      <td>195.5</td>\n",
       "      <td>419.1</td>\n",
       "      <td>161.2</td>\n",
       "      <td>248</td>\n",
       "      <td>...</td>\n",
       "      <td>47.1</td>\n",
       "      <td>65.6</td>\n",
       "      <td>95.5</td>\n",
       "      <td>270.4</td>\n",
       "      <td>375.9</td>\n",
       "      <td>150.4</td>\n",
       "      <td>613.8</td>\n",
       "      <td>0.6</td>\n",
       "      <td>7.7</td>\n",
       "      <td>0.9</td>\n",
       "    </tr>\n",
       "  </tbody>\n",
       "</table>\n",
       "<p>1 rows × 36 columns</p>\n",
       "</div>"
      ],
      "text/plain": [
       "   18-Jan  18-Feb  18-Mar  18-Apr  18-May  18-Jun  18-Jul  18-Aug  18-Sep  \\\n",
       "0     2.5      52      94   151.4   162.9    38.6   195.5   419.1   161.2   \n",
       "\n",
       "   18-Oct  ...  20-Mar  20-Apr  20-May  20-Jun  20-Jul  20-Aug  20-Sep  \\\n",
       "0     248  ...    47.1    65.6    95.5   270.4   375.9   150.4   613.8   \n",
       "\n",
       "   20-Oct  20-Nov  20-Dec  \n",
       "0     0.6     7.7     0.9  \n",
       "\n",
       "[1 rows x 36 columns]"
      ]
     },
     "execution_count": 38,
     "metadata": {},
     "output_type": "execute_result"
    }
   ],
   "source": [
    "Gangwon1"
   ]
  },
  {
   "cell_type": "code",
   "execution_count": 39,
   "metadata": {},
   "outputs": [
    {
     "data": {
      "text/html": [
       "<div>\n",
       "<style scoped>\n",
       "    .dataframe tbody tr th:only-of-type {\n",
       "        vertical-align: middle;\n",
       "    }\n",
       "\n",
       "    .dataframe tbody tr th {\n",
       "        vertical-align: top;\n",
       "    }\n",
       "\n",
       "    .dataframe thead th {\n",
       "        text-align: right;\n",
       "    }\n",
       "</style>\n",
       "<table border=\"1\" class=\"dataframe\">\n",
       "  <thead>\n",
       "    <tr style=\"text-align: right;\">\n",
       "      <th></th>\n",
       "      <th>18-Jan</th>\n",
       "      <th>18-Feb</th>\n",
       "      <th>18-Mar</th>\n",
       "      <th>18-Apr</th>\n",
       "      <th>18-May</th>\n",
       "      <th>18-Jun</th>\n",
       "      <th>18-Jul</th>\n",
       "      <th>18-Aug</th>\n",
       "      <th>18-Sep</th>\n",
       "      <th>18-Oct</th>\n",
       "      <th>...</th>\n",
       "      <th>20-Mar</th>\n",
       "      <th>20-Apr</th>\n",
       "      <th>20-May</th>\n",
       "      <th>20-Jun</th>\n",
       "      <th>20-Jul</th>\n",
       "      <th>20-Aug</th>\n",
       "      <th>20-Sep</th>\n",
       "      <th>20-Oct</th>\n",
       "      <th>20-Nov</th>\n",
       "      <th>20-Dec</th>\n",
       "    </tr>\n",
       "  </thead>\n",
       "  <tbody>\n",
       "    <tr>\n",
       "      <th>0</th>\n",
       "      <td>4.4</td>\n",
       "      <td>53.4</td>\n",
       "      <td>95.4</td>\n",
       "      <td>131.8</td>\n",
       "      <td>63.6</td>\n",
       "      <td>36.6</td>\n",
       "      <td>286</td>\n",
       "      <td>219.8</td>\n",
       "      <td>205.6</td>\n",
       "      <td>273.2</td>\n",
       "      <td>...</td>\n",
       "      <td>48.3</td>\n",
       "      <td>50.9</td>\n",
       "      <td>90.3</td>\n",
       "      <td>120.4</td>\n",
       "      <td>346.1</td>\n",
       "      <td>171.9</td>\n",
       "      <td>304</td>\n",
       "      <td>5.1</td>\n",
       "      <td>11.5</td>\n",
       "      <td>2.3</td>\n",
       "    </tr>\n",
       "  </tbody>\n",
       "</table>\n",
       "<p>1 rows × 36 columns</p>\n",
       "</div>"
      ],
      "text/plain": [
       "   18-Jan  18-Feb  18-Mar  18-Apr  18-May  18-Jun  18-Jul  18-Aug  18-Sep  \\\n",
       "0     4.4    53.4    95.4   131.8    63.6    36.6     286   219.8   205.6   \n",
       "\n",
       "   18-Oct  ...  20-Mar  20-Apr  20-May  20-Jun  20-Jul  20-Aug  20-Sep  \\\n",
       "0   273.2  ...    48.3    50.9    90.3   120.4   346.1   171.9     304   \n",
       "\n",
       "   20-Oct  20-Nov  20-Dec  \n",
       "0     5.1    11.5     2.3  \n",
       "\n",
       "[1 rows x 36 columns]"
      ]
     },
     "execution_count": 39,
     "metadata": {},
     "output_type": "execute_result"
    }
   ],
   "source": [
    "Gangwon2"
   ]
  },
  {
   "cell_type": "code",
   "execution_count": 10,
   "metadata": {},
   "outputs": [
    {
     "data": {
      "text/html": [
       "<div>\n",
       "<style scoped>\n",
       "    .dataframe tbody tr th:only-of-type {\n",
       "        vertical-align: middle;\n",
       "    }\n",
       "\n",
       "    .dataframe tbody tr th {\n",
       "        vertical-align: top;\n",
       "    }\n",
       "\n",
       "    .dataframe thead th {\n",
       "        text-align: right;\n",
       "    }\n",
       "</style>\n",
       "<table border=\"1\" class=\"dataframe\">\n",
       "  <thead>\n",
       "    <tr style=\"text-align: right;\">\n",
       "      <th></th>\n",
       "      <th>18-Jan</th>\n",
       "      <th>18-Feb</th>\n",
       "      <th>18-Mar</th>\n",
       "      <th>18-Apr</th>\n",
       "      <th>18-May</th>\n",
       "      <th>18-Jun</th>\n",
       "      <th>18-Jul</th>\n",
       "      <th>18-Aug</th>\n",
       "      <th>18-Sep</th>\n",
       "      <th>18-Oct</th>\n",
       "      <th>...</th>\n",
       "      <th>20-Mar</th>\n",
       "      <th>20-Apr</th>\n",
       "      <th>20-May</th>\n",
       "      <th>20-Jun</th>\n",
       "      <th>20-Jul</th>\n",
       "      <th>20-Aug</th>\n",
       "      <th>20-Sep</th>\n",
       "      <th>20-Oct</th>\n",
       "      <th>20-Nov</th>\n",
       "      <th>20-Dec</th>\n",
       "    </tr>\n",
       "  </thead>\n",
       "  <tbody>\n",
       "    <tr>\n",
       "      <th>0</th>\n",
       "      <td>3.9</td>\n",
       "      <td>54.4</td>\n",
       "      <td>55</td>\n",
       "      <td>141.7</td>\n",
       "      <td>123.6</td>\n",
       "      <td>46.5</td>\n",
       "      <td>185.4</td>\n",
       "      <td>625</td>\n",
       "      <td>66.1</td>\n",
       "      <td>257.6</td>\n",
       "      <td>...</td>\n",
       "      <td>38</td>\n",
       "      <td>38.4</td>\n",
       "      <td>245.1</td>\n",
       "      <td>271.9</td>\n",
       "      <td>374.7</td>\n",
       "      <td>411.3</td>\n",
       "      <td>482.8</td>\n",
       "      <td>0</td>\n",
       "      <td>19.2</td>\n",
       "      <td>0.5</td>\n",
       "    </tr>\n",
       "  </tbody>\n",
       "</table>\n",
       "<p>1 rows × 36 columns</p>\n",
       "</div>"
      ],
      "text/plain": [
       "   18-Jan  18-Feb  18-Mar  18-Apr  18-May  18-Jun  18-Jul  18-Aug  18-Sep  \\\n",
       "0     3.9    54.4      55   141.7   123.6    46.5   185.4     625    66.1   \n",
       "\n",
       "   18-Oct  ...  20-Mar  20-Apr  20-May  20-Jun  20-Jul  20-Aug  20-Sep  \\\n",
       "0   257.6  ...      38    38.4   245.1   271.9   374.7   411.3   482.8   \n",
       "\n",
       "   20-Oct  20-Nov  20-Dec  \n",
       "0       0    19.2     0.5  \n",
       "\n",
       "[1 rows x 36 columns]"
      ]
     },
     "execution_count": 10,
     "metadata": {},
     "output_type": "execute_result"
    }
   ],
   "source": [
    "Gangwon3"
   ]
  },
  {
   "cell_type": "code",
   "execution_count": 41,
   "metadata": {},
   "outputs": [
    {
     "data": {
      "text/html": [
       "<div>\n",
       "<style scoped>\n",
       "    .dataframe tbody tr th:only-of-type {\n",
       "        vertical-align: middle;\n",
       "    }\n",
       "\n",
       "    .dataframe tbody tr th {\n",
       "        vertical-align: top;\n",
       "    }\n",
       "\n",
       "    .dataframe thead th {\n",
       "        text-align: right;\n",
       "    }\n",
       "</style>\n",
       "<table border=\"1\" class=\"dataframe\">\n",
       "  <thead>\n",
       "    <tr style=\"text-align: right;\">\n",
       "      <th></th>\n",
       "      <th>18-Jan</th>\n",
       "      <th>18-Feb</th>\n",
       "      <th>18-Mar</th>\n",
       "      <th>18-Apr</th>\n",
       "      <th>18-May</th>\n",
       "      <th>18-Jun</th>\n",
       "      <th>18-Jul</th>\n",
       "      <th>18-Aug</th>\n",
       "      <th>18-Sep</th>\n",
       "      <th>18-Oct</th>\n",
       "      <th>...</th>\n",
       "      <th>20-Mar</th>\n",
       "      <th>20-Apr</th>\n",
       "      <th>20-May</th>\n",
       "      <th>20-Jun</th>\n",
       "      <th>20-Jul</th>\n",
       "      <th>20-Aug</th>\n",
       "      <th>20-Sep</th>\n",
       "      <th>20-Oct</th>\n",
       "      <th>20-Nov</th>\n",
       "      <th>20-Dec</th>\n",
       "    </tr>\n",
       "  </thead>\n",
       "  <tbody>\n",
       "    <tr>\n",
       "      <th>0</th>\n",
       "      <td>3.9</td>\n",
       "      <td>54.4</td>\n",
       "      <td>55</td>\n",
       "      <td>141.7</td>\n",
       "      <td>123.6</td>\n",
       "      <td>46.5</td>\n",
       "      <td>185.4</td>\n",
       "      <td>625</td>\n",
       "      <td>66.1</td>\n",
       "      <td>257.6</td>\n",
       "      <td>...</td>\n",
       "      <td>38</td>\n",
       "      <td>38.4</td>\n",
       "      <td>245.1</td>\n",
       "      <td>271.9</td>\n",
       "      <td>374.7</td>\n",
       "      <td>411.3</td>\n",
       "      <td>482.8</td>\n",
       "      <td>0</td>\n",
       "      <td>19.2</td>\n",
       "      <td>0.5</td>\n",
       "    </tr>\n",
       "  </tbody>\n",
       "</table>\n",
       "<p>1 rows × 36 columns</p>\n",
       "</div>"
      ],
      "text/plain": [
       "   18-Jan  18-Feb  18-Mar  18-Apr  18-May  18-Jun  18-Jul  18-Aug  18-Sep  \\\n",
       "0     3.9    54.4      55   141.7   123.6    46.5   185.4     625    66.1   \n",
       "\n",
       "   18-Oct  ...  20-Mar  20-Apr  20-May  20-Jun  20-Jul  20-Aug  20-Sep  \\\n",
       "0   257.6  ...      38    38.4   245.1   271.9   374.7   411.3   482.8   \n",
       "\n",
       "   20-Oct  20-Nov  20-Dec  \n",
       "0       0    19.2     0.5  \n",
       "\n",
       "[1 rows x 36 columns]"
      ]
     },
     "execution_count": 41,
     "metadata": {},
     "output_type": "execute_result"
    }
   ],
   "source": [
    "Gangwon3"
   ]
  },
  {
   "cell_type": "code",
   "execution_count": null,
   "metadata": {},
   "outputs": [],
   "source": []
  },
  {
   "cell_type": "code",
   "execution_count": null,
   "metadata": {},
   "outputs": [],
   "source": []
  },
  {
   "cell_type": "code",
   "execution_count": null,
   "metadata": {},
   "outputs": [],
   "source": []
  },
  {
   "cell_type": "code",
   "execution_count": null,
   "metadata": {},
   "outputs": [],
   "source": []
  },
  {
   "cell_type": "code",
   "execution_count": null,
   "metadata": {},
   "outputs": [],
   "source": []
  },
  {
   "cell_type": "code",
   "execution_count": 21,
   "metadata": {
    "scrolled": false
   },
   "outputs": [
    {
     "data": {
      "text/html": [
       "<div>\n",
       "<style scoped>\n",
       "    .dataframe tbody tr th:only-of-type {\n",
       "        vertical-align: middle;\n",
       "    }\n",
       "\n",
       "    .dataframe tbody tr th {\n",
       "        vertical-align: top;\n",
       "    }\n",
       "\n",
       "    .dataframe thead th {\n",
       "        text-align: right;\n",
       "    }\n",
       "</style>\n",
       "<table border=\"1\" class=\"dataframe\">\n",
       "  <thead>\n",
       "    <tr style=\"text-align: right;\">\n",
       "      <th></th>\n",
       "      <th>채취년도</th>\n",
       "      <th>경작지주소</th>\n",
       "      <th>산도</th>\n",
       "      <th>유효인산</th>\n",
       "      <th>유기물</th>\n",
       "      <th>마그네슘</th>\n",
       "      <th>칼륨</th>\n",
       "      <th>칼슘</th>\n",
       "      <th>전기전도도</th>\n",
       "    </tr>\n",
       "  </thead>\n",
       "  <tbody>\n",
       "    <tr>\n",
       "      <th>0</th>\n",
       "      <td>2020</td>\n",
       "      <td>강원도 강릉시 강동면 모전리</td>\n",
       "      <td>6.0</td>\n",
       "      <td>62.0</td>\n",
       "      <td>23.0</td>\n",
       "      <td>1.1</td>\n",
       "      <td>0.29</td>\n",
       "      <td>4.7</td>\n",
       "      <td>0.90</td>\n",
       "    </tr>\n",
       "    <tr>\n",
       "      <th>1</th>\n",
       "      <td>2020</td>\n",
       "      <td>강원도 강릉시 강동면 모전리</td>\n",
       "      <td>5.5</td>\n",
       "      <td>270.0</td>\n",
       "      <td>20.0</td>\n",
       "      <td>0.8</td>\n",
       "      <td>0.36</td>\n",
       "      <td>3.8</td>\n",
       "      <td>0.95</td>\n",
       "    </tr>\n",
       "    <tr>\n",
       "      <th>2</th>\n",
       "      <td>2020</td>\n",
       "      <td>강원도 강릉시 강동면 모전리</td>\n",
       "      <td>5.8</td>\n",
       "      <td>211.0</td>\n",
       "      <td>20.0</td>\n",
       "      <td>0.8</td>\n",
       "      <td>0.38</td>\n",
       "      <td>3.8</td>\n",
       "      <td>1.10</td>\n",
       "    </tr>\n",
       "    <tr>\n",
       "      <th>3</th>\n",
       "      <td>2020</td>\n",
       "      <td>강원도 강릉시 강동면 모전리</td>\n",
       "      <td>5.3</td>\n",
       "      <td>271.0</td>\n",
       "      <td>20.0</td>\n",
       "      <td>0.8</td>\n",
       "      <td>0.38</td>\n",
       "      <td>4.1</td>\n",
       "      <td>0.75</td>\n",
       "    </tr>\n",
       "    <tr>\n",
       "      <th>4</th>\n",
       "      <td>2020</td>\n",
       "      <td>강원도 강릉시 강동면 모전리</td>\n",
       "      <td>7.0</td>\n",
       "      <td>189.0</td>\n",
       "      <td>22.0</td>\n",
       "      <td>2.1</td>\n",
       "      <td>0.45</td>\n",
       "      <td>8.7</td>\n",
       "      <td>0.80</td>\n",
       "    </tr>\n",
       "  </tbody>\n",
       "</table>\n",
       "</div>"
      ],
      "text/plain": [
       "   채취년도            경작지주소   산도   유효인산   유기물  마그네슘    칼륨   칼슘  전기전도도\n",
       "0  2020  강원도 강릉시 강동면 모전리  6.0   62.0  23.0   1.1  0.29  4.7   0.90\n",
       "1  2020  강원도 강릉시 강동면 모전리  5.5  270.0  20.0   0.8  0.36  3.8   0.95\n",
       "2  2020  강원도 강릉시 강동면 모전리  5.8  211.0  20.0   0.8  0.38  3.8   1.10\n",
       "3  2020  강원도 강릉시 강동면 모전리  5.3  271.0  20.0   0.8  0.38  4.1   0.75\n",
       "4  2020  강원도 강릉시 강동면 모전리  7.0  189.0  22.0   2.1  0.45  8.7   0.80"
      ]
     },
     "execution_count": 21,
     "metadata": {},
     "output_type": "execute_result"
    }
   ],
   "source": [
    "data.head()"
   ]
  },
  {
   "cell_type": "code",
   "execution_count": 22,
   "metadata": {},
   "outputs": [
    {
     "data": {
      "text/plain": [
       "Index(['18-Jan', '18-Feb', '18-Mar', '18-Apr', '18-May', '18-Jun', '18-Jul',\n",
       "       '18-Aug', '18-Sep', '18-Oct', '18-Nov', '18-Dec', '19-Jan', '19-Feb',\n",
       "       '19-Mar', '19-Apr', '19-May', '19-Jun', '19-Jul', '19-Aug', '19-Sep',\n",
       "       '19-Oct', '19-Nov', '19-Dec', '20-Jan', '20-Feb', '20-Mar', '20-Apr',\n",
       "       '20-May', '20-Jun', '20-Jul', '20-Aug', '20-Sep', '20-Oct', '20-Nov',\n",
       "       '20-Dec'],\n",
       "      dtype='object')"
      ]
     },
     "execution_count": 22,
     "metadata": {},
     "output_type": "execute_result"
    }
   ],
   "source": [
    "data2.columns"
   ]
  },
  {
   "cell_type": "code",
   "execution_count": 21,
   "metadata": {},
   "outputs": [
    {
     "data": {
      "text/html": [
       "<div>\n",
       "<style scoped>\n",
       "    .dataframe tbody tr th:only-of-type {\n",
       "        vertical-align: middle;\n",
       "    }\n",
       "\n",
       "    .dataframe tbody tr th {\n",
       "        vertical-align: top;\n",
       "    }\n",
       "\n",
       "    .dataframe thead th {\n",
       "        text-align: right;\n",
       "    }\n",
       "</style>\n",
       "<table border=\"1\" class=\"dataframe\">\n",
       "  <thead>\n",
       "    <tr style=\"text-align: right;\">\n",
       "      <th></th>\n",
       "      <th>채취년도</th>\n",
       "      <th>경작지주소</th>\n",
       "      <th>산도</th>\n",
       "      <th>유효인산</th>\n",
       "      <th>유기물</th>\n",
       "      <th>마그네슘</th>\n",
       "      <th>칼륨</th>\n",
       "      <th>칼슘</th>\n",
       "      <th>전기전도도</th>\n",
       "      <th>18-Jan</th>\n",
       "      <th>...</th>\n",
       "      <th>20-Mar</th>\n",
       "      <th>20-Apr</th>\n",
       "      <th>20-May</th>\n",
       "      <th>20-Jun</th>\n",
       "      <th>20-Jul</th>\n",
       "      <th>20-Aug</th>\n",
       "      <th>20-Sep</th>\n",
       "      <th>20-Oct</th>\n",
       "      <th>20-Nov</th>\n",
       "      <th>20-Dec</th>\n",
       "    </tr>\n",
       "  </thead>\n",
       "  <tbody>\n",
       "    <tr>\n",
       "      <th>0</th>\n",
       "      <td>2020</td>\n",
       "      <td>강원도 강릉시 강동면 모전리</td>\n",
       "      <td>6.349</td>\n",
       "      <td>357.022222</td>\n",
       "      <td>18.666667</td>\n",
       "      <td>1.464444</td>\n",
       "      <td>0.511778</td>\n",
       "      <td>6.313333</td>\n",
       "      <td>0.874444</td>\n",
       "      <td>NaN</td>\n",
       "      <td>...</td>\n",
       "      <td>NaN</td>\n",
       "      <td>NaN</td>\n",
       "      <td>NaN</td>\n",
       "      <td>NaN</td>\n",
       "      <td>NaN</td>\n",
       "      <td>NaN</td>\n",
       "      <td>NaN</td>\n",
       "      <td>NaN</td>\n",
       "      <td>NaN</td>\n",
       "      <td>NaN</td>\n",
       "    </tr>\n",
       "    <tr>\n",
       "      <th>1</th>\n",
       "      <td>2020</td>\n",
       "      <td>강원도 강릉시 강동면 산성우리</td>\n",
       "      <td>6.271</td>\n",
       "      <td>359.285714</td>\n",
       "      <td>26.428571</td>\n",
       "      <td>1.271429</td>\n",
       "      <td>0.495714</td>\n",
       "      <td>6.414286</td>\n",
       "      <td>0.707143</td>\n",
       "      <td>NaN</td>\n",
       "      <td>...</td>\n",
       "      <td>NaN</td>\n",
       "      <td>NaN</td>\n",
       "      <td>NaN</td>\n",
       "      <td>NaN</td>\n",
       "      <td>NaN</td>\n",
       "      <td>NaN</td>\n",
       "      <td>NaN</td>\n",
       "      <td>NaN</td>\n",
       "      <td>NaN</td>\n",
       "      <td>NaN</td>\n",
       "    </tr>\n",
       "    <tr>\n",
       "      <th>2</th>\n",
       "      <td>2020</td>\n",
       "      <td>강원도 강릉시 강동면 상시동리</td>\n",
       "      <td>6.200</td>\n",
       "      <td>340.500000</td>\n",
       "      <td>18.000000</td>\n",
       "      <td>1.450000</td>\n",
       "      <td>0.365000</td>\n",
       "      <td>7.200000</td>\n",
       "      <td>0.400000</td>\n",
       "      <td>NaN</td>\n",
       "      <td>...</td>\n",
       "      <td>NaN</td>\n",
       "      <td>NaN</td>\n",
       "      <td>NaN</td>\n",
       "      <td>NaN</td>\n",
       "      <td>NaN</td>\n",
       "      <td>NaN</td>\n",
       "      <td>NaN</td>\n",
       "      <td>NaN</td>\n",
       "      <td>NaN</td>\n",
       "      <td>NaN</td>\n",
       "    </tr>\n",
       "    <tr>\n",
       "      <th>3</th>\n",
       "      <td>2020</td>\n",
       "      <td>강원도 강릉시 강동면 심곡리</td>\n",
       "      <td>5.953</td>\n",
       "      <td>578.466667</td>\n",
       "      <td>28.733333</td>\n",
       "      <td>1.820000</td>\n",
       "      <td>1.143333</td>\n",
       "      <td>6.493333</td>\n",
       "      <td>0.903333</td>\n",
       "      <td>NaN</td>\n",
       "      <td>...</td>\n",
       "      <td>NaN</td>\n",
       "      <td>NaN</td>\n",
       "      <td>NaN</td>\n",
       "      <td>NaN</td>\n",
       "      <td>NaN</td>\n",
       "      <td>NaN</td>\n",
       "      <td>NaN</td>\n",
       "      <td>NaN</td>\n",
       "      <td>NaN</td>\n",
       "      <td>NaN</td>\n",
       "    </tr>\n",
       "    <tr>\n",
       "      <th>4</th>\n",
       "      <td>2020</td>\n",
       "      <td>강원도 강릉시 강동면 안인리</td>\n",
       "      <td>7.145</td>\n",
       "      <td>132.545455</td>\n",
       "      <td>24.727273</td>\n",
       "      <td>1.681818</td>\n",
       "      <td>0.293636</td>\n",
       "      <td>8.327273</td>\n",
       "      <td>1.231818</td>\n",
       "      <td>NaN</td>\n",
       "      <td>...</td>\n",
       "      <td>NaN</td>\n",
       "      <td>NaN</td>\n",
       "      <td>NaN</td>\n",
       "      <td>NaN</td>\n",
       "      <td>NaN</td>\n",
       "      <td>NaN</td>\n",
       "      <td>NaN</td>\n",
       "      <td>NaN</td>\n",
       "      <td>NaN</td>\n",
       "      <td>NaN</td>\n",
       "    </tr>\n",
       "    <tr>\n",
       "      <th>...</th>\n",
       "      <td>...</td>\n",
       "      <td>...</td>\n",
       "      <td>...</td>\n",
       "      <td>...</td>\n",
       "      <td>...</td>\n",
       "      <td>...</td>\n",
       "      <td>...</td>\n",
       "      <td>...</td>\n",
       "      <td>...</td>\n",
       "      <td>...</td>\n",
       "      <td>...</td>\n",
       "      <td>...</td>\n",
       "      <td>...</td>\n",
       "      <td>...</td>\n",
       "      <td>...</td>\n",
       "      <td>...</td>\n",
       "      <td>...</td>\n",
       "      <td>...</td>\n",
       "      <td>...</td>\n",
       "      <td>...</td>\n",
       "      <td>...</td>\n",
       "    </tr>\n",
       "    <tr>\n",
       "      <th>14801</th>\n",
       "      <td>2020</td>\n",
       "      <td>충청북도 청주시청원구 정북동</td>\n",
       "      <td>7.597</td>\n",
       "      <td>201.251337</td>\n",
       "      <td>15.508021</td>\n",
       "      <td>1.968449</td>\n",
       "      <td>0.241123</td>\n",
       "      <td>7.015508</td>\n",
       "      <td>0.500000</td>\n",
       "      <td>NaN</td>\n",
       "      <td>...</td>\n",
       "      <td>NaN</td>\n",
       "      <td>NaN</td>\n",
       "      <td>NaN</td>\n",
       "      <td>NaN</td>\n",
       "      <td>NaN</td>\n",
       "      <td>NaN</td>\n",
       "      <td>NaN</td>\n",
       "      <td>NaN</td>\n",
       "      <td>NaN</td>\n",
       "      <td>NaN</td>\n",
       "    </tr>\n",
       "    <tr>\n",
       "      <th>14802</th>\n",
       "      <td>2020</td>\n",
       "      <td>충청북도 청주시청원구 정상동</td>\n",
       "      <td>7.255</td>\n",
       "      <td>303.096774</td>\n",
       "      <td>14.354839</td>\n",
       "      <td>1.600000</td>\n",
       "      <td>0.260645</td>\n",
       "      <td>6.661290</td>\n",
       "      <td>0.771429</td>\n",
       "      <td>NaN</td>\n",
       "      <td>...</td>\n",
       "      <td>NaN</td>\n",
       "      <td>NaN</td>\n",
       "      <td>NaN</td>\n",
       "      <td>NaN</td>\n",
       "      <td>NaN</td>\n",
       "      <td>NaN</td>\n",
       "      <td>NaN</td>\n",
       "      <td>NaN</td>\n",
       "      <td>NaN</td>\n",
       "      <td>NaN</td>\n",
       "    </tr>\n",
       "    <tr>\n",
       "      <th>14803</th>\n",
       "      <td>2020</td>\n",
       "      <td>충청북도 청주시청원구 정하동</td>\n",
       "      <td>7.200</td>\n",
       "      <td>220.600000</td>\n",
       "      <td>25.400000</td>\n",
       "      <td>1.280000</td>\n",
       "      <td>0.444000</td>\n",
       "      <td>5.400000</td>\n",
       "      <td>0.800000</td>\n",
       "      <td>NaN</td>\n",
       "      <td>...</td>\n",
       "      <td>NaN</td>\n",
       "      <td>NaN</td>\n",
       "      <td>NaN</td>\n",
       "      <td>NaN</td>\n",
       "      <td>NaN</td>\n",
       "      <td>NaN</td>\n",
       "      <td>NaN</td>\n",
       "      <td>NaN</td>\n",
       "      <td>NaN</td>\n",
       "      <td>NaN</td>\n",
       "    </tr>\n",
       "    <tr>\n",
       "      <th>14804</th>\n",
       "      <td>2020</td>\n",
       "      <td>충청북도 청주시청원구 주성동</td>\n",
       "      <td>6.386</td>\n",
       "      <td>291.857143</td>\n",
       "      <td>25.857143</td>\n",
       "      <td>1.114286</td>\n",
       "      <td>0.341429</td>\n",
       "      <td>5.171429</td>\n",
       "      <td>0.400000</td>\n",
       "      <td>NaN</td>\n",
       "      <td>...</td>\n",
       "      <td>NaN</td>\n",
       "      <td>NaN</td>\n",
       "      <td>NaN</td>\n",
       "      <td>NaN</td>\n",
       "      <td>NaN</td>\n",
       "      <td>NaN</td>\n",
       "      <td>NaN</td>\n",
       "      <td>NaN</td>\n",
       "      <td>NaN</td>\n",
       "      <td>NaN</td>\n",
       "    </tr>\n",
       "    <tr>\n",
       "      <th>14805</th>\n",
       "      <td>2020</td>\n",
       "      <td>충청북도 청주시청원구 주중동</td>\n",
       "      <td>5.900</td>\n",
       "      <td>40.000000</td>\n",
       "      <td>21.000000</td>\n",
       "      <td>1.100000</td>\n",
       "      <td>0.210000</td>\n",
       "      <td>5.500000</td>\n",
       "      <td>NaN</td>\n",
       "      <td>NaN</td>\n",
       "      <td>...</td>\n",
       "      <td>NaN</td>\n",
       "      <td>NaN</td>\n",
       "      <td>NaN</td>\n",
       "      <td>NaN</td>\n",
       "      <td>NaN</td>\n",
       "      <td>NaN</td>\n",
       "      <td>NaN</td>\n",
       "      <td>NaN</td>\n",
       "      <td>NaN</td>\n",
       "      <td>NaN</td>\n",
       "    </tr>\n",
       "  </tbody>\n",
       "</table>\n",
       "<p>14806 rows × 45 columns</p>\n",
       "</div>"
      ],
      "text/plain": [
       "       채취년도             경작지주소     산도        유효인산        유기물      마그네슘  \\\n",
       "0      2020   강원도 강릉시 강동면 모전리  6.349  357.022222  18.666667  1.464444   \n",
       "1      2020  강원도 강릉시 강동면 산성우리  6.271  359.285714  26.428571  1.271429   \n",
       "2      2020  강원도 강릉시 강동면 상시동리  6.200  340.500000  18.000000  1.450000   \n",
       "3      2020   강원도 강릉시 강동면 심곡리  5.953  578.466667  28.733333  1.820000   \n",
       "4      2020   강원도 강릉시 강동면 안인리  7.145  132.545455  24.727273  1.681818   \n",
       "...     ...               ...    ...         ...        ...       ...   \n",
       "14801  2020   충청북도 청주시청원구 정북동  7.597  201.251337  15.508021  1.968449   \n",
       "14802  2020   충청북도 청주시청원구 정상동  7.255  303.096774  14.354839  1.600000   \n",
       "14803  2020   충청북도 청주시청원구 정하동  7.200  220.600000  25.400000  1.280000   \n",
       "14804  2020   충청북도 청주시청원구 주성동  6.386  291.857143  25.857143  1.114286   \n",
       "14805  2020   충청북도 청주시청원구 주중동  5.900   40.000000  21.000000  1.100000   \n",
       "\n",
       "             칼륨        칼슘     전기전도도  18-Jan  ...  20-Mar  20-Apr  20-May  \\\n",
       "0      0.511778  6.313333  0.874444     NaN  ...     NaN     NaN     NaN   \n",
       "1      0.495714  6.414286  0.707143     NaN  ...     NaN     NaN     NaN   \n",
       "2      0.365000  7.200000  0.400000     NaN  ...     NaN     NaN     NaN   \n",
       "3      1.143333  6.493333  0.903333     NaN  ...     NaN     NaN     NaN   \n",
       "4      0.293636  8.327273  1.231818     NaN  ...     NaN     NaN     NaN   \n",
       "...         ...       ...       ...     ...  ...     ...     ...     ...   \n",
       "14801  0.241123  7.015508  0.500000     NaN  ...     NaN     NaN     NaN   \n",
       "14802  0.260645  6.661290  0.771429     NaN  ...     NaN     NaN     NaN   \n",
       "14803  0.444000  5.400000  0.800000     NaN  ...     NaN     NaN     NaN   \n",
       "14804  0.341429  5.171429  0.400000     NaN  ...     NaN     NaN     NaN   \n",
       "14805  0.210000  5.500000       NaN     NaN  ...     NaN     NaN     NaN   \n",
       "\n",
       "       20-Jun  20-Jul  20-Aug  20-Sep  20-Oct  20-Nov  20-Dec  \n",
       "0         NaN     NaN     NaN     NaN     NaN     NaN     NaN  \n",
       "1         NaN     NaN     NaN     NaN     NaN     NaN     NaN  \n",
       "2         NaN     NaN     NaN     NaN     NaN     NaN     NaN  \n",
       "3         NaN     NaN     NaN     NaN     NaN     NaN     NaN  \n",
       "4         NaN     NaN     NaN     NaN     NaN     NaN     NaN  \n",
       "...       ...     ...     ...     ...     ...     ...     ...  \n",
       "14801     NaN     NaN     NaN     NaN     NaN     NaN     NaN  \n",
       "14802     NaN     NaN     NaN     NaN     NaN     NaN     NaN  \n",
       "14803     NaN     NaN     NaN     NaN     NaN     NaN     NaN  \n",
       "14804     NaN     NaN     NaN     NaN     NaN     NaN     NaN  \n",
       "14805     NaN     NaN     NaN     NaN     NaN     NaN     NaN  \n",
       "\n",
       "[14806 rows x 45 columns]"
      ]
     },
     "execution_count": 21,
     "metadata": {},
     "output_type": "execute_result"
    }
   ],
   "source": [
    "for i in Gangwon1.columns:\n",
    "    data[i] = np.nan\n",
    "data"
   ]
  },
  {
   "cell_type": "code",
   "execution_count": 22,
   "metadata": {
    "scrolled": false
   },
   "outputs": [],
   "source": [
    "for i in range(0,data.shape[0]):\n",
    "    if data['경작지주소'].str.contains('강릉시')[i] :\n",
    "        for j in Gangwon1.columns:\n",
    "            data.loc[i,j] = Gangwon1.loc[0,j]\n",
    "    else :\n",
    "        pass"
   ]
  },
  {
   "cell_type": "code",
   "execution_count": 15,
   "metadata": {
    "collapsed": true
   },
   "outputs": [
    {
     "data": {
      "text/html": [
       "<div>\n",
       "<style scoped>\n",
       "    .dataframe tbody tr th:only-of-type {\n",
       "        vertical-align: middle;\n",
       "    }\n",
       "\n",
       "    .dataframe tbody tr th {\n",
       "        vertical-align: top;\n",
       "    }\n",
       "\n",
       "    .dataframe thead th {\n",
       "        text-align: right;\n",
       "    }\n",
       "</style>\n",
       "<table border=\"1\" class=\"dataframe\">\n",
       "  <thead>\n",
       "    <tr style=\"text-align: right;\">\n",
       "      <th></th>\n",
       "      <th>채취년도</th>\n",
       "      <th>경작지주소</th>\n",
       "      <th>산도</th>\n",
       "      <th>유효인산</th>\n",
       "      <th>유기물</th>\n",
       "      <th>마그네슘</th>\n",
       "      <th>칼륨</th>\n",
       "      <th>칼슘</th>\n",
       "      <th>전기전도도</th>\n",
       "      <th>18-Jan</th>\n",
       "      <th>...</th>\n",
       "      <th>20-Mar</th>\n",
       "      <th>20-Apr</th>\n",
       "      <th>20-May</th>\n",
       "      <th>20-Jun</th>\n",
       "      <th>20-Jul</th>\n",
       "      <th>20-Aug</th>\n",
       "      <th>20-Sep</th>\n",
       "      <th>20-Oct</th>\n",
       "      <th>20-Nov</th>\n",
       "      <th>20-Dec</th>\n",
       "    </tr>\n",
       "  </thead>\n",
       "  <tbody>\n",
       "    <tr>\n",
       "      <th>0</th>\n",
       "      <td>2020</td>\n",
       "      <td>강원도 강릉시 강동면 모전리</td>\n",
       "      <td>6.349</td>\n",
       "      <td>357.022222</td>\n",
       "      <td>18.666667</td>\n",
       "      <td>1.464444</td>\n",
       "      <td>0.511778</td>\n",
       "      <td>6.313333</td>\n",
       "      <td>0.874444</td>\n",
       "      <td>2.5</td>\n",
       "      <td>...</td>\n",
       "      <td>47.1</td>\n",
       "      <td>65.6</td>\n",
       "      <td>95.5</td>\n",
       "      <td>270.4</td>\n",
       "      <td>375.9</td>\n",
       "      <td>150.4</td>\n",
       "      <td>613.8</td>\n",
       "      <td>0.6</td>\n",
       "      <td>7.7</td>\n",
       "      <td>0.9</td>\n",
       "    </tr>\n",
       "    <tr>\n",
       "      <th>1</th>\n",
       "      <td>2020</td>\n",
       "      <td>강원도 강릉시 강동면 산성우리</td>\n",
       "      <td>6.271</td>\n",
       "      <td>359.285714</td>\n",
       "      <td>26.428571</td>\n",
       "      <td>1.271429</td>\n",
       "      <td>0.495714</td>\n",
       "      <td>6.414286</td>\n",
       "      <td>0.707143</td>\n",
       "      <td>2.5</td>\n",
       "      <td>...</td>\n",
       "      <td>47.1</td>\n",
       "      <td>65.6</td>\n",
       "      <td>95.5</td>\n",
       "      <td>270.4</td>\n",
       "      <td>375.9</td>\n",
       "      <td>150.4</td>\n",
       "      <td>613.8</td>\n",
       "      <td>0.6</td>\n",
       "      <td>7.7</td>\n",
       "      <td>0.9</td>\n",
       "    </tr>\n",
       "    <tr>\n",
       "      <th>2</th>\n",
       "      <td>2020</td>\n",
       "      <td>강원도 강릉시 강동면 상시동리</td>\n",
       "      <td>6.200</td>\n",
       "      <td>340.500000</td>\n",
       "      <td>18.000000</td>\n",
       "      <td>1.450000</td>\n",
       "      <td>0.365000</td>\n",
       "      <td>7.200000</td>\n",
       "      <td>0.400000</td>\n",
       "      <td>2.5</td>\n",
       "      <td>...</td>\n",
       "      <td>47.1</td>\n",
       "      <td>65.6</td>\n",
       "      <td>95.5</td>\n",
       "      <td>270.4</td>\n",
       "      <td>375.9</td>\n",
       "      <td>150.4</td>\n",
       "      <td>613.8</td>\n",
       "      <td>0.6</td>\n",
       "      <td>7.7</td>\n",
       "      <td>0.9</td>\n",
       "    </tr>\n",
       "    <tr>\n",
       "      <th>3</th>\n",
       "      <td>2020</td>\n",
       "      <td>강원도 강릉시 강동면 심곡리</td>\n",
       "      <td>5.953</td>\n",
       "      <td>578.466667</td>\n",
       "      <td>28.733333</td>\n",
       "      <td>1.820000</td>\n",
       "      <td>1.143333</td>\n",
       "      <td>6.493333</td>\n",
       "      <td>0.903333</td>\n",
       "      <td>2.5</td>\n",
       "      <td>...</td>\n",
       "      <td>47.1</td>\n",
       "      <td>65.6</td>\n",
       "      <td>95.5</td>\n",
       "      <td>270.4</td>\n",
       "      <td>375.9</td>\n",
       "      <td>150.4</td>\n",
       "      <td>613.8</td>\n",
       "      <td>0.6</td>\n",
       "      <td>7.7</td>\n",
       "      <td>0.9</td>\n",
       "    </tr>\n",
       "    <tr>\n",
       "      <th>4</th>\n",
       "      <td>2020</td>\n",
       "      <td>강원도 강릉시 강동면 안인리</td>\n",
       "      <td>7.145</td>\n",
       "      <td>132.545455</td>\n",
       "      <td>24.727273</td>\n",
       "      <td>1.681818</td>\n",
       "      <td>0.293636</td>\n",
       "      <td>8.327273</td>\n",
       "      <td>1.231818</td>\n",
       "      <td>2.5</td>\n",
       "      <td>...</td>\n",
       "      <td>47.1</td>\n",
       "      <td>65.6</td>\n",
       "      <td>95.5</td>\n",
       "      <td>270.4</td>\n",
       "      <td>375.9</td>\n",
       "      <td>150.4</td>\n",
       "      <td>613.8</td>\n",
       "      <td>0.6</td>\n",
       "      <td>7.7</td>\n",
       "      <td>0.9</td>\n",
       "    </tr>\n",
       "    <tr>\n",
       "      <th>...</th>\n",
       "      <td>...</td>\n",
       "      <td>...</td>\n",
       "      <td>...</td>\n",
       "      <td>...</td>\n",
       "      <td>...</td>\n",
       "      <td>...</td>\n",
       "      <td>...</td>\n",
       "      <td>...</td>\n",
       "      <td>...</td>\n",
       "      <td>...</td>\n",
       "      <td>...</td>\n",
       "      <td>...</td>\n",
       "      <td>...</td>\n",
       "      <td>...</td>\n",
       "      <td>...</td>\n",
       "      <td>...</td>\n",
       "      <td>...</td>\n",
       "      <td>...</td>\n",
       "      <td>...</td>\n",
       "      <td>...</td>\n",
       "      <td>...</td>\n",
       "    </tr>\n",
       "    <tr>\n",
       "      <th>14801</th>\n",
       "      <td>2020</td>\n",
       "      <td>충청북도 청주시청원구 정북동</td>\n",
       "      <td>7.597</td>\n",
       "      <td>201.251337</td>\n",
       "      <td>15.508021</td>\n",
       "      <td>1.968449</td>\n",
       "      <td>0.241123</td>\n",
       "      <td>7.015508</td>\n",
       "      <td>0.500000</td>\n",
       "      <td>NaN</td>\n",
       "      <td>...</td>\n",
       "      <td>NaN</td>\n",
       "      <td>NaN</td>\n",
       "      <td>NaN</td>\n",
       "      <td>NaN</td>\n",
       "      <td>NaN</td>\n",
       "      <td>NaN</td>\n",
       "      <td>NaN</td>\n",
       "      <td>NaN</td>\n",
       "      <td>NaN</td>\n",
       "      <td>NaN</td>\n",
       "    </tr>\n",
       "    <tr>\n",
       "      <th>14802</th>\n",
       "      <td>2020</td>\n",
       "      <td>충청북도 청주시청원구 정상동</td>\n",
       "      <td>7.255</td>\n",
       "      <td>303.096774</td>\n",
       "      <td>14.354839</td>\n",
       "      <td>1.600000</td>\n",
       "      <td>0.260645</td>\n",
       "      <td>6.661290</td>\n",
       "      <td>0.771429</td>\n",
       "      <td>NaN</td>\n",
       "      <td>...</td>\n",
       "      <td>NaN</td>\n",
       "      <td>NaN</td>\n",
       "      <td>NaN</td>\n",
       "      <td>NaN</td>\n",
       "      <td>NaN</td>\n",
       "      <td>NaN</td>\n",
       "      <td>NaN</td>\n",
       "      <td>NaN</td>\n",
       "      <td>NaN</td>\n",
       "      <td>NaN</td>\n",
       "    </tr>\n",
       "    <tr>\n",
       "      <th>14803</th>\n",
       "      <td>2020</td>\n",
       "      <td>충청북도 청주시청원구 정하동</td>\n",
       "      <td>7.200</td>\n",
       "      <td>220.600000</td>\n",
       "      <td>25.400000</td>\n",
       "      <td>1.280000</td>\n",
       "      <td>0.444000</td>\n",
       "      <td>5.400000</td>\n",
       "      <td>0.800000</td>\n",
       "      <td>NaN</td>\n",
       "      <td>...</td>\n",
       "      <td>NaN</td>\n",
       "      <td>NaN</td>\n",
       "      <td>NaN</td>\n",
       "      <td>NaN</td>\n",
       "      <td>NaN</td>\n",
       "      <td>NaN</td>\n",
       "      <td>NaN</td>\n",
       "      <td>NaN</td>\n",
       "      <td>NaN</td>\n",
       "      <td>NaN</td>\n",
       "    </tr>\n",
       "    <tr>\n",
       "      <th>14804</th>\n",
       "      <td>2020</td>\n",
       "      <td>충청북도 청주시청원구 주성동</td>\n",
       "      <td>6.386</td>\n",
       "      <td>291.857143</td>\n",
       "      <td>25.857143</td>\n",
       "      <td>1.114286</td>\n",
       "      <td>0.341429</td>\n",
       "      <td>5.171429</td>\n",
       "      <td>0.400000</td>\n",
       "      <td>NaN</td>\n",
       "      <td>...</td>\n",
       "      <td>NaN</td>\n",
       "      <td>NaN</td>\n",
       "      <td>NaN</td>\n",
       "      <td>NaN</td>\n",
       "      <td>NaN</td>\n",
       "      <td>NaN</td>\n",
       "      <td>NaN</td>\n",
       "      <td>NaN</td>\n",
       "      <td>NaN</td>\n",
       "      <td>NaN</td>\n",
       "    </tr>\n",
       "    <tr>\n",
       "      <th>14805</th>\n",
       "      <td>2020</td>\n",
       "      <td>충청북도 청주시청원구 주중동</td>\n",
       "      <td>5.900</td>\n",
       "      <td>40.000000</td>\n",
       "      <td>21.000000</td>\n",
       "      <td>1.100000</td>\n",
       "      <td>0.210000</td>\n",
       "      <td>5.500000</td>\n",
       "      <td>NaN</td>\n",
       "      <td>NaN</td>\n",
       "      <td>...</td>\n",
       "      <td>NaN</td>\n",
       "      <td>NaN</td>\n",
       "      <td>NaN</td>\n",
       "      <td>NaN</td>\n",
       "      <td>NaN</td>\n",
       "      <td>NaN</td>\n",
       "      <td>NaN</td>\n",
       "      <td>NaN</td>\n",
       "      <td>NaN</td>\n",
       "      <td>NaN</td>\n",
       "    </tr>\n",
       "  </tbody>\n",
       "</table>\n",
       "<p>14806 rows × 45 columns</p>\n",
       "</div>"
      ],
      "text/plain": [
       "       채취년도             경작지주소     산도        유효인산        유기물      마그네슘  \\\n",
       "0      2020   강원도 강릉시 강동면 모전리  6.349  357.022222  18.666667  1.464444   \n",
       "1      2020  강원도 강릉시 강동면 산성우리  6.271  359.285714  26.428571  1.271429   \n",
       "2      2020  강원도 강릉시 강동면 상시동리  6.200  340.500000  18.000000  1.450000   \n",
       "3      2020   강원도 강릉시 강동면 심곡리  5.953  578.466667  28.733333  1.820000   \n",
       "4      2020   강원도 강릉시 강동면 안인리  7.145  132.545455  24.727273  1.681818   \n",
       "...     ...               ...    ...         ...        ...       ...   \n",
       "14801  2020   충청북도 청주시청원구 정북동  7.597  201.251337  15.508021  1.968449   \n",
       "14802  2020   충청북도 청주시청원구 정상동  7.255  303.096774  14.354839  1.600000   \n",
       "14803  2020   충청북도 청주시청원구 정하동  7.200  220.600000  25.400000  1.280000   \n",
       "14804  2020   충청북도 청주시청원구 주성동  6.386  291.857143  25.857143  1.114286   \n",
       "14805  2020   충청북도 청주시청원구 주중동  5.900   40.000000  21.000000  1.100000   \n",
       "\n",
       "             칼륨        칼슘     전기전도도  18-Jan  ...  20-Mar  20-Apr  20-May  \\\n",
       "0      0.511778  6.313333  0.874444     2.5  ...    47.1    65.6    95.5   \n",
       "1      0.495714  6.414286  0.707143     2.5  ...    47.1    65.6    95.5   \n",
       "2      0.365000  7.200000  0.400000     2.5  ...    47.1    65.6    95.5   \n",
       "3      1.143333  6.493333  0.903333     2.5  ...    47.1    65.6    95.5   \n",
       "4      0.293636  8.327273  1.231818     2.5  ...    47.1    65.6    95.5   \n",
       "...         ...       ...       ...     ...  ...     ...     ...     ...   \n",
       "14801  0.241123  7.015508  0.500000     NaN  ...     NaN     NaN     NaN   \n",
       "14802  0.260645  6.661290  0.771429     NaN  ...     NaN     NaN     NaN   \n",
       "14803  0.444000  5.400000  0.800000     NaN  ...     NaN     NaN     NaN   \n",
       "14804  0.341429  5.171429  0.400000     NaN  ...     NaN     NaN     NaN   \n",
       "14805  0.210000  5.500000       NaN     NaN  ...     NaN     NaN     NaN   \n",
       "\n",
       "       20-Jun  20-Jul  20-Aug  20-Sep  20-Oct  20-Nov  20-Dec  \n",
       "0       270.4   375.9   150.4   613.8     0.6     7.7     0.9  \n",
       "1       270.4   375.9   150.4   613.8     0.6     7.7     0.9  \n",
       "2       270.4   375.9   150.4   613.8     0.6     7.7     0.9  \n",
       "3       270.4   375.9   150.4   613.8     0.6     7.7     0.9  \n",
       "4       270.4   375.9   150.4   613.8     0.6     7.7     0.9  \n",
       "...       ...     ...     ...     ...     ...     ...     ...  \n",
       "14801     NaN     NaN     NaN     NaN     NaN     NaN     NaN  \n",
       "14802     NaN     NaN     NaN     NaN     NaN     NaN     NaN  \n",
       "14803     NaN     NaN     NaN     NaN     NaN     NaN     NaN  \n",
       "14804     NaN     NaN     NaN     NaN     NaN     NaN     NaN  \n",
       "14805     NaN     NaN     NaN     NaN     NaN     NaN     NaN  \n",
       "\n",
       "[14806 rows x 45 columns]"
      ]
     },
     "execution_count": 15,
     "metadata": {},
     "output_type": "execute_result"
    }
   ],
   "source": [
    "data"
   ]
  },
  {
   "cell_type": "code",
   "execution_count": 23,
   "metadata": {},
   "outputs": [],
   "source": [
    "for i in range(0,data.shape[0]):\n",
    "    if data['경작지주소'].str.contains('고성군')[i] :\n",
    "        for j in Gangwon1.columns:\n",
    "            data.loc[i,j] = Gangwon3.loc[0,j]\n",
    "    else :\n",
    "        pass"
   ]
  },
  {
   "cell_type": "code",
   "execution_count": 24,
   "metadata": {},
   "outputs": [],
   "source": [
    "for i in range(0,data.shape[0]):\n",
    "    if data['경작지주소'].str.contains('동해시')[i] :\n",
    "        for j in Gangwon1.columns:\n",
    "            data.loc[i,j] = Gangwon2.loc[0,j]\n",
    "    else :\n",
    "        pass"
   ]
  },
  {
   "cell_type": "code",
   "execution_count": 25,
   "metadata": {},
   "outputs": [],
   "source": [
    "for i in range(0,data.shape[0]):\n",
    "    if data['경작지주소'].str.contains('삼척시')[i] :\n",
    "        for j in Gangwon1.columns:\n",
    "            data.loc[i,j] = Gangwon2.loc[0,j]\n",
    "    else :\n",
    "        pass"
   ]
  },
  {
   "cell_type": "code",
   "execution_count": 26,
   "metadata": {},
   "outputs": [],
   "source": [
    "for i in range(0,data.shape[0]):\n",
    "    if data['경작지주소'].str.contains('속초시')[i] :\n",
    "        for j in Gangwon1.columns:\n",
    "            data.loc[i,j] = Gangwon3.loc[0,j]\n",
    "    else :\n",
    "        pass"
   ]
  },
  {
   "cell_type": "code",
   "execution_count": 27,
   "metadata": {},
   "outputs": [],
   "source": [
    "for i in range(0,data.shape[0]):\n",
    "    if data['경작지주소'].str.contains('양구군')[i] :\n",
    "        for j in Gangwon1.columns:\n",
    "            data.loc[i,j] = Gangwon5.loc[0,j]\n",
    "    else :\n",
    "        pass"
   ]
  },
  {
   "cell_type": "code",
   "execution_count": 28,
   "metadata": {},
   "outputs": [],
   "source": [
    "for i in range(0,data.shape[0]):\n",
    "    if data['경작지주소'].str.contains('양양군')[i] :\n",
    "        for j in Gangwon1.columns:\n",
    "            data.loc[i,j] = Gangwon3.loc[0,j]\n",
    "    else :\n",
    "        pass"
   ]
  },
  {
   "cell_type": "code",
   "execution_count": 29,
   "metadata": {},
   "outputs": [],
   "source": [
    "for i in range(0,data.shape[0]):\n",
    "    if data['경작지주소'].str.contains('영월군')[i] :\n",
    "        for j in Gangwon1.columns:\n",
    "            data.loc[i,j] = Gangwon6.loc[0,j]\n",
    "    else :\n",
    "        pass"
   ]
  },
  {
   "cell_type": "code",
   "execution_count": 30,
   "metadata": {},
   "outputs": [],
   "source": [
    "for i in range(0,data.shape[0]):\n",
    "    if data['경작지주소'].str.contains('원주시')[i] :\n",
    "        for j in Gangwon1.columns:\n",
    "            data.loc[i,j] = Gangwon7.loc[0,j]\n",
    "    else :\n",
    "        pass"
   ]
  },
  {
   "cell_type": "code",
   "execution_count": 31,
   "metadata": {},
   "outputs": [],
   "source": [
    "for i in range(0,data.shape[0]):\n",
    "    if data['경작지주소'].str.contains('인제군')[i] :\n",
    "        for j in Gangwon1.columns:\n",
    "            data.loc[i,j] = Gangwon5.loc[0,j]\n",
    "    else :\n",
    "        pass"
   ]
  },
  {
   "cell_type": "code",
   "execution_count": 32,
   "metadata": {},
   "outputs": [],
   "source": [
    "for i in range(0,data.shape[0]):\n",
    "    if data['경작지주소'].str.contains('정선군')[i] :\n",
    "        for j in Gangwon1.columns:\n",
    "            data.loc[i,j] = Gangwon8.loc[0,j]\n",
    "    else :\n",
    "        pass"
   ]
  },
  {
   "cell_type": "code",
   "execution_count": 33,
   "metadata": {},
   "outputs": [],
   "source": [
    "for i in range(0,data.shape[0]):\n",
    "    if data['경작지주소'].str.contains('철원군')[i] :\n",
    "        for j in Gangwon1.columns:\n",
    "            data.loc[i,j] = Gangwon9.loc[0,j]\n",
    "    else :\n",
    "        pass"
   ]
  },
  {
   "cell_type": "code",
   "execution_count": 34,
   "metadata": {},
   "outputs": [],
   "source": [
    "for i in range(0,data.shape[0]):\n",
    "    if data['경작지주소'].str.contains('춘천시')[i] :\n",
    "        for j in Gangwon1.columns:\n",
    "            data.loc[i,j] = Gangwon5.loc[0,j]\n",
    "    else :\n",
    "        pass"
   ]
  },
  {
   "cell_type": "code",
   "execution_count": null,
   "metadata": {},
   "outputs": [],
   "source": [
    "for i in range(0,data.shape[0]):\n",
    "    if data['경작지주소'].str.contains('태백시')[i] :\n",
    "        for j in Gangwon1.columns:\n",
    "            data.loc[i,j] = Gangwon11.loc[0,j]\n",
    "    else :\n",
    "        pass"
   ]
  },
  {
   "cell_type": "code",
   "execution_count": null,
   "metadata": {},
   "outputs": [],
   "source": [
    "for i in range(0,data.shape[0]):\n",
    "    if data['경작지주소'].str.contains('평창군')[i] :\n",
    "        for j in Gangwon1.columns:\n",
    "            data.loc[i,j] = Gangwon8.loc[0,j]\n",
    "    else :\n",
    "        pass"
   ]
  },
  {
   "cell_type": "code",
   "execution_count": null,
   "metadata": {},
   "outputs": [],
   "source": [
    "for i in range(0,data.shape[0]):\n",
    "    if data['경작지주소'].str.contains('홍천군')[i] :\n",
    "        for j in Gangwon1.columns:\n",
    "            data.loc[i,j] = Gangwon12.loc[0,j]\n",
    "    else :\n",
    "        pass"
   ]
  },
  {
   "cell_type": "code",
   "execution_count": null,
   "metadata": {},
   "outputs": [],
   "source": [
    "for i in range(0,data.shape[0]):\n",
    "    if data['경작지주소'].str.contains('화천군')[i] :\n",
    "        for j in Gangwon1.columns:\n",
    "            data.loc[i,j] = Gangwon9.loc[0,j]\n",
    "    else :\n",
    "        pass"
   ]
  },
  {
   "cell_type": "code",
   "execution_count": null,
   "metadata": {},
   "outputs": [],
   "source": [
    "for i in range(0,data.shape[0]):\n",
    "    if data['경작지주소'].str.contains('횡성군')[i] :\n",
    "        for j in Gangwon1.columns:\n",
    "            data.loc[i,j] = Gangwon7.loc[0,j]\n",
    "    else :\n",
    "        pass"
   ]
  },
  {
   "cell_type": "markdown",
   "metadata": {},
   "source": [
    "## 경기도"
   ]
  },
  {
   "cell_type": "code",
   "execution_count": 35,
   "metadata": {},
   "outputs": [],
   "source": [
    "for i in range(0,data.shape[0]):\n",
    "    if data['경작지주소'].str.contains('가평군')[i] :\n",
    "        for j in Gangwon1.columns:\n",
    "            data.loc[i,j] = Gyeonggi1.loc[0,j]\n",
    "    else :\n",
    "        pass"
   ]
  },
  {
   "cell_type": "code",
   "execution_count": 36,
   "metadata": {},
   "outputs": [],
   "source": [
    "for i in range(0,data.shape[0]):\n",
    "    if data['경작지주소'].str.contains('고양시덕양구')[i] :\n",
    "        for j in Gangwon1.columns:\n",
    "            data.loc[i,j] = Gyeonggi5.loc[0,j]\n",
    "    else :\n",
    "        pass"
   ]
  },
  {
   "cell_type": "code",
   "execution_count": 37,
   "metadata": {},
   "outputs": [],
   "source": [
    "for i in range(0,data.shape[0]):\n",
    "    if data['경작지주소'].str.contains('과천시')[i] :\n",
    "        for j in Gangwon1.columns:\n",
    "            data.loc[i,j] = Gyeonggi6.loc[0,j]\n",
    "    else :\n",
    "        pass"
   ]
  },
  {
   "cell_type": "code",
   "execution_count": 38,
   "metadata": {},
   "outputs": [],
   "source": [
    "for i in range(0,data.shape[0]):\n",
    "    if data['경작지주소'].str.contains('광명시')[i] :\n",
    "        for j in Gangwon1.columns:\n",
    "            data.loc[i,j] = Gyeonggi6.loc[0,j]\n",
    "    else :\n",
    "        pass"
   ]
  },
  {
   "cell_type": "code",
   "execution_count": 39,
   "metadata": {},
   "outputs": [],
   "source": [
    "for i in range(0,data.shape[0]):\n",
    "    if data['경작지주소'].str.contains('광주시')[i] :\n",
    "        for j in Gangwon1.columns:\n",
    "            data.loc[i,j] = Gyeonggi7.loc[0,j]\n",
    "    else :\n",
    "        pass"
   ]
  },
  {
   "cell_type": "code",
   "execution_count": 40,
   "metadata": {},
   "outputs": [],
   "source": [
    "for i in range(0,data.shape[0]):\n",
    "    if data['경작지주소'].str.contains('김포시')[i] :\n",
    "        for j in Gangwon1.columns:\n",
    "            data.loc[i,j] = Gyeonggi8.loc[0,j]\n",
    "    else :\n",
    "        pass"
   ]
  },
  {
   "cell_type": "code",
   "execution_count": 41,
   "metadata": {},
   "outputs": [],
   "source": [
    "for i in range(0,data.shape[0]):\n",
    "    if data['경작지주소'].str.contains('군포시')[i] :\n",
    "        for j in Gangwon1.columns:\n",
    "            data.loc[i,j] = Gyeonggi6.loc[0,j]\n",
    "    else :\n",
    "        pass"
   ]
  },
  {
   "cell_type": "code",
   "execution_count": 42,
   "metadata": {},
   "outputs": [],
   "source": [
    "for i in range(0,data.shape[0]):\n",
    "    if data['경작지주소'].str.contains('남양주시')[i] :\n",
    "        for j in Gangwon1.columns:\n",
    "            data.loc[i,j] = Gyeonggi7.loc[0,j]\n",
    "    else :\n",
    "        pass"
   ]
  },
  {
   "cell_type": "code",
   "execution_count": 43,
   "metadata": {},
   "outputs": [],
   "source": [
    "for i in range(0,data.shape[0]):\n",
    "    if data['경작지주소'].str.contains('동두천시')[i] :\n",
    "        for j in Gangwon1.columns:\n",
    "            data.loc[i,j] = Gyeonggi1.loc[0,j]\n",
    "    else :\n",
    "        pass"
   ]
  },
  {
   "cell_type": "code",
   "execution_count": 44,
   "metadata": {},
   "outputs": [],
   "source": [
    "for i in range(0,data.shape[0]):\n",
    "    if data['경작지주소'].str.contains('부천시')[i] :\n",
    "        for j in Gangwon1.columns:\n",
    "            data.loc[i,j] = Gyeonggi6.loc[0,j]\n",
    "    else :\n",
    "        pass"
   ]
  },
  {
   "cell_type": "code",
   "execution_count": 45,
   "metadata": {},
   "outputs": [],
   "source": [
    "for i in range(0,data.shape[0]):\n",
    "    if data['경작지주소'].str.contains('성남시분당구')[i] :\n",
    "        for j in Gangwon1.columns:\n",
    "            data.loc[i,j] = Gyeonggi2.loc[0,j]\n",
    "    else :\n",
    "        pass"
   ]
  },
  {
   "cell_type": "code",
   "execution_count": 46,
   "metadata": {},
   "outputs": [],
   "source": [
    "for i in range(0,data.shape[0]):\n",
    "    if data['경작지주소'].str.contains('수원시권선구')[i] :\n",
    "        for j in Gangwon1.columns:\n",
    "            data.loc[i,j] = Gyeonggi2.loc[0,j]\n",
    "    else :\n",
    "        pass"
   ]
  },
  {
   "cell_type": "code",
   "execution_count": 47,
   "metadata": {},
   "outputs": [],
   "source": [
    "for i in range(0,data.shape[0]):\n",
    "    if data['경작지주소'].str.contains('수원시장안구')[i] :\n",
    "        for j in Gangwon1.columns:\n",
    "            data.loc[i,j] = Gyeonggi2.loc[0,j]\n",
    "    else :\n",
    "        pass"
   ]
  },
  {
   "cell_type": "code",
   "execution_count": 48,
   "metadata": {},
   "outputs": [],
   "source": [
    "for i in range(0,data.shape[0]):\n",
    "    if data['경작지주소'].str.contains('시흥시')[i] :\n",
    "        for j in Gangwon1.columns:\n",
    "            data.loc[i,j] = Gyeonggi6.loc[0,j]\n",
    "    else :\n",
    "        pass"
   ]
  },
  {
   "cell_type": "code",
   "execution_count": 49,
   "metadata": {},
   "outputs": [],
   "source": [
    "for i in range(0,data.shape[0]):\n",
    "    if data['경작지주소'].str.contains('안산시단원구')[i] :\n",
    "        for j in Gangwon1.columns:\n",
    "            data.loc[i,j] = Gyeonggi2.loc[0,j]\n",
    "    else :\n",
    "        pass"
   ]
  },
  {
   "cell_type": "code",
   "execution_count": 50,
   "metadata": {},
   "outputs": [],
   "source": [
    "for i in range(0,data.shape[0]):\n",
    "    if data['경작지주소'].str.contains('안성시')[i] :\n",
    "        for j in Gangwon1.columns:\n",
    "            data.loc[i,j] = Gyeonggi4.loc[0,j]\n",
    "    else :\n",
    "        pass"
   ]
  },
  {
   "cell_type": "code",
   "execution_count": 51,
   "metadata": {},
   "outputs": [],
   "source": [
    "for i in range(0,data.shape[0]):\n",
    "    if data['경작지주소'].str.contains('안양시민인군')[i] :\n",
    "        for j in Gangwon1.columns:\n",
    "            data.loc[i,j] = Gyeonggi6.loc[0,j]\n",
    "    else :\n",
    "        pass"
   ]
  },
  {
   "cell_type": "code",
   "execution_count": 52,
   "metadata": {},
   "outputs": [],
   "source": [
    "for i in range(0,data.shape[0]):\n",
    "    if data['경작지주소'].str.contains('양주시')[i] :\n",
    "        for j in Gangwon1.columns:\n",
    "            data.loc[i,j] = Gyeonggi5.loc[0,j]\n",
    "    else :\n",
    "        pass"
   ]
  },
  {
   "cell_type": "code",
   "execution_count": 53,
   "metadata": {},
   "outputs": [],
   "source": [
    "for i in range(0,data.shape[0]):\n",
    "    if data['경작지주소'].str.contains('양평군')[i] :\n",
    "        for j in Gangwon1.columns:\n",
    "            data.loc[i,j] = Gyeonggi3.loc[0,j]\n",
    "    else :\n",
    "        pass"
   ]
  },
  {
   "cell_type": "code",
   "execution_count": 54,
   "metadata": {},
   "outputs": [],
   "source": [
    "for i in range(0,data.shape[0]):\n",
    "    if data['경작지주소'].str.contains('여주시')[i] :\n",
    "        for j in Gangwon1.columns:\n",
    "            data.loc[i,j] = Gyeonggi3.loc[0,j]\n",
    "    else :\n",
    "        pass"
   ]
  },
  {
   "cell_type": "code",
   "execution_count": 55,
   "metadata": {},
   "outputs": [],
   "source": [
    "for i in range(0,data.shape[0]):\n",
    "    if data['경작지주소'].str.contains('연천군')[i] :\n",
    "        for j in Gangwon1.columns:\n",
    "            data.loc[i,j] = Gyeonggi1.loc[0,j]\n",
    "    else :\n",
    "        pass"
   ]
  },
  {
   "cell_type": "code",
   "execution_count": 56,
   "metadata": {},
   "outputs": [],
   "source": [
    "for i in range(0,data.shape[0]):\n",
    "    if data['경작지주소'].str.contains('오산시')[i] :\n",
    "        for j in Gangwon1.columns:\n",
    "            data.loc[i,j] = Gyeonggi2.loc[0,j]\n",
    "    else :\n",
    "        pass"
   ]
  },
  {
   "cell_type": "code",
   "execution_count": 57,
   "metadata": {},
   "outputs": [],
   "source": [
    "for i in range(0,data.shape[0]):\n",
    "    if data['경작지주소'].str.contains('용인시기흥구')[i] :\n",
    "        for j in Gangwon1.columns:\n",
    "            data.loc[i,j] = Gyeonggi2.loc[0,j]\n",
    "    else :\n",
    "        pass"
   ]
  },
  {
   "cell_type": "code",
   "execution_count": 58,
   "metadata": {},
   "outputs": [],
   "source": [
    "for i in range(0,data.shape[0]):\n",
    "    if data['경작지주소'].str.contains('용인시처인구')[i] :\n",
    "        for j in Gangwon1.columns:\n",
    "            data.loc[i,j] = Gyeonggi2.loc[0,j]\n",
    "    else :\n",
    "        pass"
   ]
  },
  {
   "cell_type": "code",
   "execution_count": 59,
   "metadata": {},
   "outputs": [],
   "source": [
    "for i in range(0,data.shape[0]):\n",
    "    if data['경작지주소'].str.contains('의왕시')[i] :\n",
    "        for j in Gangwon1.columns:\n",
    "            data.loc[i,j] = Gyeonggi2.loc[0,j]\n",
    "    else :\n",
    "        pass"
   ]
  },
  {
   "cell_type": "code",
   "execution_count": 60,
   "metadata": {},
   "outputs": [],
   "source": [
    "for i in range(0,data.shape[0]):\n",
    "    if data['경작지주소'].str.contains('의정부시')[i] :\n",
    "        for j in Gangwon1.columns:\n",
    "            data.loc[i,j] = Gyeonggi1.loc[0,j]\n",
    "    else :\n",
    "        pass"
   ]
  },
  {
   "cell_type": "code",
   "execution_count": 61,
   "metadata": {},
   "outputs": [],
   "source": [
    "for i in range(0,data.shape[0]):\n",
    "    if data['경작지주소'].str.contains('이천시')[i] :\n",
    "        for j in Gangwon1.columns:\n",
    "            data.loc[i,j] = Gyeonggi4.loc[0,j]\n",
    "    else :\n",
    "        pass"
   ]
  },
  {
   "cell_type": "code",
   "execution_count": 62,
   "metadata": {},
   "outputs": [],
   "source": [
    "for i in range(0,data.shape[0]):\n",
    "    if data['경작지주소'].str.contains('파주시')[i] :\n",
    "        for j in Gangwon1.columns:\n",
    "            data.loc[i,j] = Gyeonggi5.loc[0,j]\n",
    "    else :\n",
    "        pass"
   ]
  },
  {
   "cell_type": "code",
   "execution_count": 63,
   "metadata": {},
   "outputs": [],
   "source": [
    "for i in range(0,data.shape[0]):\n",
    "    if data['경작지주소'].str.contains('평택시')[i] :\n",
    "        for j in Gangwon1.columns:\n",
    "            data.loc[i,j] = Gyeonggi2.loc[0,j]\n",
    "    else :\n",
    "        pass"
   ]
  },
  {
   "cell_type": "code",
   "execution_count": 64,
   "metadata": {},
   "outputs": [],
   "source": [
    "for i in range(0,data.shape[0]):\n",
    "    if data['경작지주소'].str.contains('포천시')[i] :\n",
    "        for j in Gangwon1.columns:\n",
    "            data.loc[i,j] = Gyeonggi1.loc[0,j]\n",
    "    else :\n",
    "        pass"
   ]
  },
  {
   "cell_type": "code",
   "execution_count": 65,
   "metadata": {},
   "outputs": [],
   "source": [
    "for i in range(0,data.shape[0]):\n",
    "    if data['경작지주소'].str.contains('하남시')[i] :\n",
    "        for j in Gangwon1.columns:\n",
    "            data.loc[i,j] = Gyeonggi7.loc[0,j]\n",
    "    else :\n",
    "        pass"
   ]
  },
  {
   "cell_type": "code",
   "execution_count": 66,
   "metadata": {},
   "outputs": [],
   "source": [
    "for i in range(0,data.shape[0]):\n",
    "    if data['경작지주소'].str.contains('화성시')[i] :\n",
    "        for j in Gangwon1.columns:\n",
    "            data.loc[i,j] = Gyeonggi2.loc[0,j]\n",
    "    else :\n",
    "        pass"
   ]
  },
  {
   "cell_type": "markdown",
   "metadata": {},
   "source": [
    "## 경상남도"
   ]
  },
  {
   "cell_type": "code",
   "execution_count": 67,
   "metadata": {},
   "outputs": [],
   "source": [
    "for i in range(0,data.shape[0]):\n",
    "    if data['경작지주소'].str.contains('거제시')[i] :\n",
    "        for j in Gangwon1.columns:\n",
    "            data.loc[i,j] =  Gyeongsangnam1.loc[0,j]\n",
    "    else :\n",
    "        pass"
   ]
  },
  {
   "cell_type": "code",
   "execution_count": 68,
   "metadata": {},
   "outputs": [],
   "source": [
    "for i in range(0,data.shape[0]):\n",
    "    if data['경작지주소'].str.contains('거창군')[i] :\n",
    "        for j in Gangwon1.columns:\n",
    "            data.loc[i,j] =  Gyeongsangnam2.loc[0,j]\n",
    "    else :\n",
    "        pass"
   ]
  },
  {
   "cell_type": "code",
   "execution_count": 69,
   "metadata": {},
   "outputs": [],
   "source": [
    "for i in range(0,data.shape[0]):\n",
    "    if data['경작지주소'].str.contains('고성군')[i] :\n",
    "        for j in Gangwon1.columns:\n",
    "            data.loc[i,j] =  Gyeongsangnam12.loc[0,j]\n",
    "    else :\n",
    "        pass"
   ]
  },
  {
   "cell_type": "code",
   "execution_count": 70,
   "metadata": {},
   "outputs": [],
   "source": [
    "for i in range(0,data.shape[0]):\n",
    "    if data['경작지주소'].str.contains('김해시')[i] :\n",
    "        for j in Gangwon1.columns:\n",
    "            data.loc[i,j] =  Gyeongsangnam3.loc[0,j]\n",
    "    else :\n",
    "        pass"
   ]
  },
  {
   "cell_type": "code",
   "execution_count": 71,
   "metadata": {},
   "outputs": [],
   "source": [
    "for i in range(0,data.shape[0]):\n",
    "    if data['경작지주소'].str.contains('남해군')[i] :\n",
    "        for j in Gangwon1.columns:\n",
    "            data.loc[i,j] =  Gyeongsangnam4.loc[0,j]\n",
    "    else :\n",
    "        pass"
   ]
  },
  {
   "cell_type": "code",
   "execution_count": 72,
   "metadata": {},
   "outputs": [],
   "source": [
    "for i in range(0,data.shape[0]):\n",
    "    if data['경작지주소'].str.contains('밀양시')[i] :\n",
    "        for j in Gangwon1.columns:\n",
    "            data.loc[i,j] =  Gyeongsangnam5.loc[0,j]\n",
    "    else :\n",
    "        pass"
   ]
  },
  {
   "cell_type": "code",
   "execution_count": 73,
   "metadata": {},
   "outputs": [],
   "source": [
    "for i in range(0,data.shape[0]):\n",
    "    if data['경작지주소'].str.contains('서천시')[i] :\n",
    "        for j in Gangwon1.columns:\n",
    "            data.loc[i,j] =  Gyeongsangnam10.loc[0,j]\n",
    "    else :\n",
    "        pass"
   ]
  },
  {
   "cell_type": "code",
   "execution_count": 74,
   "metadata": {},
   "outputs": [],
   "source": [
    "for i in range(0,data.shape[0]):\n",
    "    if data['경작지주소'].str.contains('산청군')[i] :\n",
    "        for j in Gangwon1.columns:\n",
    "            data.loc[i,j] =  Gyeongsangnam7.loc[0,j]\n",
    "    else :\n",
    "        pass"
   ]
  },
  {
   "cell_type": "code",
   "execution_count": 75,
   "metadata": {},
   "outputs": [],
   "source": [
    "for i in range(0,data.shape[0]):\n",
    "    if data['경작지주소'].str.contains('양산시')[i] :\n",
    "        for j in Gangwon1.columns:\n",
    "            data.loc[i,j] =  Gyeongsangnam8.loc[0,j]\n",
    "    else :\n",
    "        pass"
   ]
  },
  {
   "cell_type": "code",
   "execution_count": 76,
   "metadata": {},
   "outputs": [],
   "source": [
    "for i in range(0,data.shape[0]):\n",
    "    if data['경작지주소'].str.contains('의령군')[i] :\n",
    "        for j in Gangwon1.columns:\n",
    "            data.loc[i,j] =  Gyeongsangnam9.loc[0,j]\n",
    "    else :\n",
    "        pass"
   ]
  },
  {
   "cell_type": "code",
   "execution_count": 77,
   "metadata": {},
   "outputs": [],
   "source": [
    "for i in range(0,data.shape[0]):\n",
    "    if data['경작지주소'].str.contains('진주시')[i] :\n",
    "        for j in Gangwon1.columns:\n",
    "            data.loc[i,j] =  Gyeongsangnam10.loc[0,j]\n",
    "    else :\n",
    "        pass"
   ]
  },
  {
   "cell_type": "code",
   "execution_count": 78,
   "metadata": {},
   "outputs": [],
   "source": [
    "for i in range(0,data.shape[0]):\n",
    "    if data['경작지주소'].str.contains('창녕군')[i] :\n",
    "        for j in Gangwon1.columns:\n",
    "            data.loc[i,j] =  Gyeongsangnam5.loc[0,j]\n",
    "    else :\n",
    "        pass"
   ]
  },
  {
   "cell_type": "markdown",
   "metadata": {},
   "source": [
    "# 경상북도"
   ]
  },
  {
   "cell_type": "code",
   "execution_count": 79,
   "metadata": {},
   "outputs": [],
   "source": [
    "for i in range(0,data.shape[0]):\n",
    "    if data['경작지주소'].str.contains('경주시')[i] :\n",
    "        for j in Gangwon1.columns:\n",
    "            data.loc[i,j] =   Gyeongsangbuk1.loc[0,j]\n",
    "    else :\n",
    "        pass"
   ]
  },
  {
   "cell_type": "code",
   "execution_count": 80,
   "metadata": {},
   "outputs": [],
   "source": [
    "for i in range(0,data.shape[0]):\n",
    "    if data['경작지주소'].str.contains('고령군')[i] :\n",
    "        for j in Gangwon1.columns:\n",
    "            data.loc[i,j] = Gyeongsangnam14.loc[0,j]\n",
    "    else :\n",
    "        pass"
   ]
  },
  {
   "cell_type": "code",
   "execution_count": 81,
   "metadata": {},
   "outputs": [],
   "source": [
    "for i in range(0,data.shape[0]):\n",
    "    if data['경작지주소'].str.contains('구미시')[i] :\n",
    "        for j in Gangwon1.columns:\n",
    "            data.loc[i,j] =   Gyeongsangbuk2.loc[0,j]\n",
    "    else :\n",
    "        pass"
   ]
  },
  {
   "cell_type": "code",
   "execution_count": 82,
   "metadata": {},
   "outputs": [],
   "source": [
    "for i in range(0,data.shape[0]):\n",
    "    if data['경작지주소'].str.contains('군위군')[i] :\n",
    "        for j in Gangwon1.columns:\n",
    "            data.loc[i,j] =   Gyeongsangbuk2.loc[0,j]\n",
    "    else :\n",
    "        pass"
   ]
  },
  {
   "cell_type": "code",
   "execution_count": 83,
   "metadata": {},
   "outputs": [],
   "source": [
    "for i in range(0,data.shape[0]):\n",
    "    if data['경작지주소'].str.contains('김천시')[i] :\n",
    "        for j in Gangwon1.columns:\n",
    "            data.loc[i,j] =   Gyeongsangbuk2.loc[0,j]\n",
    "    else :\n",
    "        pass"
   ]
  },
  {
   "cell_type": "code",
   "execution_count": 84,
   "metadata": {},
   "outputs": [],
   "source": [
    "for i in range(0,data.shape[0]):\n",
    "    if data['경작지주소'].str.contains('문경시')[i] :\n",
    "        for j in Gangwon1.columns:\n",
    "            data.loc[i,j] =   Gyeongsangbuk3.loc[0,j]\n",
    "    else :\n",
    "        pass"
   ]
  },
  {
   "cell_type": "code",
   "execution_count": 85,
   "metadata": {},
   "outputs": [],
   "source": [
    "for i in range(0,data.shape[0]):\n",
    "    if data['경작지주소'].str.contains('봉화군')[i] :\n",
    "        for j in Gangwon1.columns:\n",
    "            data.loc[i,j] =   Gyeongsangbuk4.loc[0,j]\n",
    "    else :\n",
    "        pass"
   ]
  },
  {
   "cell_type": "code",
   "execution_count": 86,
   "metadata": {},
   "outputs": [],
   "source": [
    "for i in range(0,data.shape[0]):\n",
    "    if data['경작지주소'].str.contains('상주시')[i] :\n",
    "        for j in Gangwon1.columns:\n",
    "            data.loc[i,j] =   Gyeongsangbuk2.loc[0,j]\n",
    "    else :\n",
    "        pass"
   ]
  },
  {
   "cell_type": "code",
   "execution_count": 87,
   "metadata": {},
   "outputs": [],
   "source": [
    "for i in range(0,data.shape[0]):\n",
    "    if data['경작지주소'].str.contains('성주군')[i] :\n",
    "        for j in Gangwon1.columns:\n",
    "            data.loc[i,j] =   Gyeongsangbuk5.loc[0,j]\n",
    "    else :\n",
    "        pass"
   ]
  },
  {
   "cell_type": "code",
   "execution_count": null,
   "metadata": {},
   "outputs": [],
   "source": [
    "for i in range(0,data.shape[0]):\n",
    "    if data['경작지주소'].str.contains('안동시')[i] :\n",
    "        for j in Gangwon1.columns:\n",
    "            data.loc[i,j] =   Gyeongsangbuk6.loc[0,j]\n",
    "    else :\n",
    "        pass"
   ]
  },
  {
   "cell_type": "code",
   "execution_count": null,
   "metadata": {},
   "outputs": [],
   "source": [
    "for i in range(0,data.shape[0]):\n",
    "    if data['경작지주소'].str.contains('영덕군')[i] :\n",
    "        for j in Gangwon1.columns:\n",
    "            data.loc[i,j] =   Gyeongsangbuk7.loc[0,j]\n",
    "    else :\n",
    "        pass"
   ]
  },
  {
   "cell_type": "code",
   "execution_count": null,
   "metadata": {},
   "outputs": [],
   "source": [
    "for i in range(0,data.shape[0]):\n",
    "    if data['경작지주소'].str.contains('영주시')[i] :\n",
    "        for j in Gangwon1.columns:\n",
    "            data.loc[i,j] =   Gyeongsangbuk8.loc[0,j]\n",
    "    else :\n",
    "        pass"
   ]
  },
  {
   "cell_type": "code",
   "execution_count": null,
   "metadata": {},
   "outputs": [],
   "source": [
    "for i in range(0,data.shape[0]):\n",
    "    if data['경작지주소'].str.contains('예천군')[i] :\n",
    "        for j in Gangwon1.columns:\n",
    "            data.loc[i,j] =   Gyeongsangbuk3.loc[0,j]\n",
    "    else :\n",
    "        pass"
   ]
  },
  {
   "cell_type": "code",
   "execution_count": null,
   "metadata": {},
   "outputs": [],
   "source": [
    "for i in range(0,data.shape[0]):\n",
    "    if data['경작지주소'].str.contains('울릉군')[i] :\n",
    "        for j in Gangwon1.columns:\n",
    "            data.loc[i,j] =   Gyeongsangbuk10.loc[0,j]\n",
    "    else :\n",
    "        pass"
   ]
  },
  {
   "cell_type": "code",
   "execution_count": null,
   "metadata": {},
   "outputs": [],
   "source": [
    "for i in range(0,data.shape[0]):\n",
    "    if data['경작지주소'].str.contains('울진군')[i] :\n",
    "        for j in Gangwon1.columns:\n",
    "            data.loc[i,j] =   Gyeongsangbuk11.loc[0,j]\n",
    "    else :\n",
    "        pass"
   ]
  },
  {
   "cell_type": "code",
   "execution_count": null,
   "metadata": {},
   "outputs": [],
   "source": [
    "for i in range(0,data.shape[0]):\n",
    "    if data['경작지주소'].str.contains('의성군')[i] :\n",
    "        for j in Gangwon1.columns:\n",
    "            data.loc[i,j] =   Gyeongsangbuk12.loc[0,j]\n",
    "    else :\n",
    "        pass"
   ]
  },
  {
   "cell_type": "code",
   "execution_count": null,
   "metadata": {},
   "outputs": [],
   "source": [
    "for i in range(0,data.shape[0]):\n",
    "    if data['경작지주소'].str.contains('청도군')[i] :\n",
    "        for j in Gangwon1.columns:\n",
    "            data.loc[i,j] =   Gyeongsangbuk15.loc[0,j]\n",
    "    else :\n",
    "        pass"
   ]
  },
  {
   "cell_type": "code",
   "execution_count": null,
   "metadata": {},
   "outputs": [],
   "source": [
    "for i in range(0,data.shape[0]):\n",
    "    if data['경작지주소'].str.contains('청송군')[i] :\n",
    "        for j in Gangwon1.columns:\n",
    "            data.loc[i,j] =   Gyeongsangbuk13.loc[0,j]\n",
    "    else :\n",
    "        pass"
   ]
  },
  {
   "cell_type": "code",
   "execution_count": null,
   "metadata": {},
   "outputs": [],
   "source": [
    "for i in range(0,data.shape[0]):\n",
    "    if data['경작지주소'].str.contains('칠곡군')[i] :\n",
    "        for j in Gangwon1.columns:\n",
    "            data.loc[i,j] =   Gyeongsangbuk2.loc[0,j]\n",
    "    else :\n",
    "        pass"
   ]
  },
  {
   "cell_type": "code",
   "execution_count": null,
   "metadata": {},
   "outputs": [],
   "source": [
    "for i in range(0,data.shape[0]):\n",
    "    if data['경작지주소'].str.contains('포항시남구')[i] :\n",
    "        for j in Gangwon1.columns:\n",
    "            data.loc[i,j] =   Gyeongsangbuk14.loc[0,j]\n",
    "    else :\n",
    "        pass"
   ]
  },
  {
   "cell_type": "code",
   "execution_count": null,
   "metadata": {},
   "outputs": [],
   "source": [
    "for i in range(0,data.shape[0]):\n",
    "    if data['경작지주소'].str.contains('포항시북구')[i] :\n",
    "        for j in Gangwon1.columns:\n",
    "            data.loc[i,j] =   Gyeongsangbuk14.loc[0,j]\n",
    "    else :\n",
    "        pass"
   ]
  },
  {
   "cell_type": "code",
   "execution_count": null,
   "metadata": {},
   "outputs": [],
   "source": [
    "data"
   ]
  },
  {
   "cell_type": "markdown",
   "metadata": {},
   "source": [
    "# 전라남도"
   ]
  },
  {
   "cell_type": "code",
   "execution_count": null,
   "metadata": {},
   "outputs": [],
   "source": [
    "for i in range(0,data.shape[0]):\n",
    "    if data['경작지주소'].str.contains('강진군')[i] :\n",
    "        for j in Gangwon1.columns:\n",
    "            data.loc[i,j] =   Jeollanam1.loc[0,j]\n",
    "    else :\n",
    "        pass"
   ]
  },
  {
   "cell_type": "code",
   "execution_count": null,
   "metadata": {},
   "outputs": [],
   "source": [
    "for i in range(0,data.shape[0]):\n",
    "    if data['경작지주소'].str.contains('고흥군')[i] :\n",
    "        for j in Gangwon1.columns:\n",
    "            data.loc[i,j] =   Jeollanam2.loc[0,j]\n",
    "    else :\n",
    "        pass"
   ]
  },
  {
   "cell_type": "code",
   "execution_count": null,
   "metadata": {},
   "outputs": [],
   "source": [
    "for i in range(0,data.shape[0]):\n",
    "    if data['경작지주소'].str.contains('곡성군')[i] :\n",
    "        for j in Gangwon1.columns:\n",
    "            data.loc[i,j] =   Jeollanam7.loc[0,j]\n",
    "    else :\n",
    "        pass"
   ]
  },
  {
   "cell_type": "code",
   "execution_count": null,
   "metadata": {},
   "outputs": [],
   "source": [
    "for i in range(0,data.shape[0]):\n",
    "    if data['경작지주소'].str.contains('광양시')[i] :\n",
    "        for j in Gangwon1.columns:\n",
    "            data.loc[i,j] =   Jeollanam3.loc[0,j]\n",
    "    else :\n",
    "        pass"
   ]
  },
  {
   "cell_type": "code",
   "execution_count": null,
   "metadata": {},
   "outputs": [],
   "source": [
    "for i in range(0,data.shape[0]):\n",
    "    if data['경작지주소'].str.contains('구례군')[i] :\n",
    "        for j in Gangwon1.columns:\n",
    "            data.loc[i,j] =   Jeollanam7.loc[0,j]\n",
    "    else :\n",
    "        pass"
   ]
  },
  {
   "cell_type": "code",
   "execution_count": null,
   "metadata": {},
   "outputs": [],
   "source": [
    "for i in range(0,data.shape[0]):\n",
    "    if data['경작지주소'].str.contains('나주시')[i] :\n",
    "        for j in Gangwon1.columns:\n",
    "            data.loc[i,j] =   Jeollanam4.loc[0,j]\n",
    "    else :\n",
    "        pass"
   ]
  },
  {
   "cell_type": "code",
   "execution_count": null,
   "metadata": {},
   "outputs": [],
   "source": [
    "for i in range(0,data.shape[0]):\n",
    "    if data['경작지주소'].str.contains('담양군')[i] :\n",
    "        for j in Gangwon1.columns:\n",
    "            data.loc[i,j] =   Jeollanam4.loc[0,j]\n",
    "    else :\n",
    "        pass"
   ]
  },
  {
   "cell_type": "code",
   "execution_count": null,
   "metadata": {},
   "outputs": [],
   "source": [
    "for i in range(0,data.shape[0]):\n",
    "    if data['경작지주소'].str.contains('무안군')[i] :\n",
    "        for j in Gangwon1.columns:\n",
    "            data.loc[i,j] =   Jeollanam5.loc[0,j]\n",
    "    else :\n",
    "        pass"
   ]
  },
  {
   "cell_type": "code",
   "execution_count": null,
   "metadata": {},
   "outputs": [],
   "source": [
    "for i in range(0,data.shape[0]):\n",
    "    if data['경작지주소'].str.contains('보성군')[i] :\n",
    "        for j in Gangwon1.columns:\n",
    "            data.loc[i,j] =   Jeollanam6.loc[0,j]\n",
    "    else :\n",
    "        pass"
   ]
  },
  {
   "cell_type": "code",
   "execution_count": null,
   "metadata": {},
   "outputs": [],
   "source": [
    "for i in range(0,data.shape[0]):\n",
    "    if data['경작지주소'].str.contains('순천시')[i] :\n",
    "        for j in Gangwon1.columns:\n",
    "            data.loc[i,j] =   Jeollanam7.loc[0,j]\n",
    "    else :\n",
    "        pass"
   ]
  },
  {
   "cell_type": "code",
   "execution_count": null,
   "metadata": {},
   "outputs": [],
   "source": [
    "for i in range(0,data.shape[0]):\n",
    "    if data['경작지주소'].str.contains('신안군')[i] :\n",
    "        for j in Gangwon1.columns:\n",
    "            data.loc[i,j] =   Jeollanam5.loc[0,j]\n",
    "    else :\n",
    "        pass"
   ]
  },
  {
   "cell_type": "code",
   "execution_count": null,
   "metadata": {},
   "outputs": [],
   "source": [
    "for i in range(0,data.shape[0]):\n",
    "    if data['경작지주소'].str.contains('여수시')[i] :\n",
    "        for j in Gangwon1.columns:\n",
    "            data.loc[i,j] =   Jeollanam8.loc[0,j]\n",
    "    else :\n",
    "        pass"
   ]
  },
  {
   "cell_type": "code",
   "execution_count": null,
   "metadata": {},
   "outputs": [],
   "source": [
    "for i in range(0,data.shape[0]):\n",
    "    if data['경작지주소'].str.contains('영광군')[i] :\n",
    "        for j in Gangwon1.columns:\n",
    "            data.loc[i,j] =   Jeollanam9.loc[0,j]\n",
    "    else :\n",
    "        pass"
   ]
  },
  {
   "cell_type": "code",
   "execution_count": null,
   "metadata": {},
   "outputs": [],
   "source": [
    "for i in range(0,data.shape[0]):\n",
    "    if data['경작지주소'].str.contains('영암군')[i] :\n",
    "        for j in Gangwon1.columns:\n",
    "            data.loc[i,j] =   Jeollanam4.loc[0,j]\n",
    "    else :\n",
    "        pass"
   ]
  },
  {
   "cell_type": "code",
   "execution_count": null,
   "metadata": {},
   "outputs": [],
   "source": [
    "for i in range(0,data.shape[0]):\n",
    "    if data['경작지주소'].str.contains('완도군')[i] :\n",
    "        for j in Gangwon1.columns:\n",
    "            data.loc[i,j] =   Jeollanam10.loc[0,j]\n",
    "    else :\n",
    "        pass"
   ]
  },
  {
   "cell_type": "code",
   "execution_count": null,
   "metadata": {},
   "outputs": [],
   "source": [
    "for i in range(0,data.shape[0]):\n",
    "    if data['경작지주소'].str.contains('장성군')[i] :\n",
    "        for j in Gangwon1.columns:\n",
    "            data.loc[i,j] =   Jeollanam4.loc[0,j]\n",
    "    else :\n",
    "        pass"
   ]
  },
  {
   "cell_type": "code",
   "execution_count": null,
   "metadata": {},
   "outputs": [],
   "source": [
    "for i in range(0,data.shape[0]):\n",
    "    if data['경작지주소'].str.contains('장흥군')[i] :\n",
    "        for j in Gangwon1.columns:\n",
    "            data.loc[i,j] =   Jeollanam11.loc[0,j]\n",
    "    else :\n",
    "        pass"
   ]
  },
  {
   "cell_type": "code",
   "execution_count": null,
   "metadata": {},
   "outputs": [],
   "source": [
    "for i in range(0,data.shape[0]):\n",
    "    if data['경작지주소'].str.contains('진도군')[i] :\n",
    "        for j in Gangwon1.columns:\n",
    "            data.loc[i,j] =   Jeollanam12.loc[0,j]\n",
    "    else :\n",
    "        pass"
   ]
  },
  {
   "cell_type": "code",
   "execution_count": null,
   "metadata": {},
   "outputs": [],
   "source": [
    "for i in range(0,data.shape[0]):\n",
    "    if data['경작지주소'].str.contains('함평군')[i] :\n",
    "        for j in Gangwon1.columns:\n",
    "            data.loc[i,j] =   Jeollanam5.loc[0,j]\n",
    "    else :\n",
    "        pass"
   ]
  },
  {
   "cell_type": "code",
   "execution_count": null,
   "metadata": {},
   "outputs": [],
   "source": [
    "for i in range(0,data.shape[0]):\n",
    "    if data['경작지주소'].str.contains('해남군')[i] :\n",
    "        for j in Gangwon1.columns:\n",
    "            data.loc[i,j] =   Jeollanam13.loc[0,j]\n",
    "    else :\n",
    "        pass"
   ]
  },
  {
   "cell_type": "code",
   "execution_count": null,
   "metadata": {},
   "outputs": [],
   "source": [
    "for i in range(0,data.shape[0]):\n",
    "    if data['경작지주소'].str.contains('화순군')[i] :\n",
    "        for j in Gangwon1.columns:\n",
    "            data.loc[i,j] =   Jeollanam4.loc[0,j]\n",
    "    else :\n",
    "        pass"
   ]
  },
  {
   "cell_type": "markdown",
   "metadata": {},
   "source": [
    "# 전라북도"
   ]
  },
  {
   "cell_type": "code",
   "execution_count": null,
   "metadata": {},
   "outputs": [],
   "source": [
    "for i in range(0,data.shape[0]):\n",
    "    if data['경작지주소'].str.contains('고창군')[i] :\n",
    "        for j in Gangwon1.columns:\n",
    "            data.loc[i,j] =   Jeollabuk1.loc[0,j]\n",
    "    else :\n",
    "        pass"
   ]
  },
  {
   "cell_type": "code",
   "execution_count": null,
   "metadata": {},
   "outputs": [],
   "source": [
    "for i in range(0,data.shape[0]):\n",
    "    if data['경작지주소'].str.contains('군산시')[i] :\n",
    "        for j in Gangwon1.columns:\n",
    "            data.loc[i,j] =   Jeollabuk2.loc[0,j]\n",
    "    else :\n",
    "        pass"
   ]
  },
  {
   "cell_type": "code",
   "execution_count": null,
   "metadata": {},
   "outputs": [],
   "source": [
    "for i in range(0,data.shape[0]):\n",
    "    if data['경작지주소'].str.contains('김제시')[i] :\n",
    "        for j in Gangwon1.columns:\n",
    "            data.loc[i,j] =   Jeollabuk4.loc[0,j]\n",
    "    else :\n",
    "        pass"
   ]
  },
  {
   "cell_type": "code",
   "execution_count": null,
   "metadata": {},
   "outputs": [],
   "source": [
    "for i in range(0,data.shape[0]):\n",
    "    if data['경작지주소'].str.contains('남원시')[i] :\n",
    "        for j in Gangwon1.columns:\n",
    "            data.loc[i,j] =   Jeollabuk3.loc[0,j]\n",
    "    else :\n",
    "        pass"
   ]
  },
  {
   "cell_type": "code",
   "execution_count": null,
   "metadata": {},
   "outputs": [],
   "source": [
    "for i in range(0,data.shape[0]):\n",
    "    if data['경작지주소'].str.contains('무주군')[i] :\n",
    "        for j in Gangwon1.columns:\n",
    "            data.loc[i,j] =   Jeollabuk8.loc[0,j]\n",
    "    else :\n",
    "        pass"
   ]
  },
  {
   "cell_type": "code",
   "execution_count": null,
   "metadata": {},
   "outputs": [],
   "source": [
    "for i in range(0,data.shape[0]):\n",
    "    if data['경작지주소'].str.contains('부안군')[i] :\n",
    "        for j in Gangwon1.columns:\n",
    "            data.loc[i,j] =   Jeollabuk4.loc[0,j]\n",
    "    else :\n",
    "        pass"
   ]
  },
  {
   "cell_type": "code",
   "execution_count": null,
   "metadata": {},
   "outputs": [],
   "source": [
    "for i in range(0,data.shape[0]):\n",
    "    if data['경작지주소'].str.contains('순창군')[i] :\n",
    "        for j in Gangwon1.columns:\n",
    "            data.loc[i,j] =   Jeollabuk6.loc[0,j]\n",
    "    else :\n",
    "        pass"
   ]
  },
  {
   "cell_type": "code",
   "execution_count": null,
   "metadata": {},
   "outputs": [],
   "source": [
    "for i in range(0,data.shape[0]):\n",
    "    if data['경작지주소'].str.contains('완주군')[i] :\n",
    "        for j in Gangwon1.columns:\n",
    "            data.loc[i,j] =   Jeollabuk9.loc[0,j]\n",
    "    else :\n",
    "        pass"
   ]
  },
  {
   "cell_type": "code",
   "execution_count": null,
   "metadata": {},
   "outputs": [],
   "source": [
    "for i in range(0,data.shape[0]):\n",
    "    if data['경작지주소'].str.contains('익산시')[i] :\n",
    "        for j in Gangwon1.columns:\n",
    "            data.loc[i,j] =   Jeollabuk9.loc[0,j]\n",
    "    else :\n",
    "        pass"
   ]
  },
  {
   "cell_type": "code",
   "execution_count": null,
   "metadata": {},
   "outputs": [],
   "source": [
    "for i in range(0,data.shape[0]):\n",
    "    if data['경작지주소'].str.contains('임실군')[i] :\n",
    "        for j in Gangwon1.columns:\n",
    "            data.loc[i,j] =   Jeollabuk7.loc[0,j]\n",
    "    else :\n",
    "        pass"
   ]
  },
  {
   "cell_type": "code",
   "execution_count": null,
   "metadata": {},
   "outputs": [],
   "source": [
    "for i in range(0,data.shape[0]):\n",
    "    if data['경작지주소'].str.contains('장수군')[i] :\n",
    "        for j in Gangwon1.columns:\n",
    "            data.loc[i,j] =   Jeollabuk8.loc[0,j]\n",
    "    else :\n",
    "        pass"
   ]
  },
  {
   "cell_type": "code",
   "execution_count": null,
   "metadata": {},
   "outputs": [],
   "source": [
    "# 사유: 전라도가 아닌 경상도에 있음, 경상도엔 for문 이미 들어가있음\n",
    "# for i in range(0,data.shape[0]):\n",
    "#     if data['경작지주소'].str.contains('진주시')[i] :\n",
    "#         for j in Gangwon1.columns:\n",
    "#             data.loc[i,j] =   Jeollabuk9.loc[0,j]\n",
    "#     else :\n",
    "#         pass"
   ]
  },
  {
   "cell_type": "code",
   "execution_count": null,
   "metadata": {},
   "outputs": [],
   "source": [
    "for i in range(0,data.shape[0]):\n",
    "    if data['경작지주소'].str.contains('정읍시')[i] :\n",
    "        for j in Gangwon1.columns:\n",
    "            data.loc[i,j] =   Jeollabuk10.loc[0,j]\n",
    "    else :\n",
    "        pass"
   ]
  },
  {
   "cell_type": "code",
   "execution_count": null,
   "metadata": {},
   "outputs": [],
   "source": [
    "for i in range(0,data.shape[0]):\n",
    "    if data['경작지주소'].str.contains('진안군')[i] :\n",
    "        for j in Gangwon1.columns:\n",
    "            data.loc[i,j] =   Jeollabuk8.loc[0,j]\n",
    "    else :\n",
    "        pass"
   ]
  },
  {
   "cell_type": "markdown",
   "metadata": {},
   "source": [
    "# 제주특별자치도"
   ]
  },
  {
   "cell_type": "code",
   "execution_count": null,
   "metadata": {},
   "outputs": [],
   "source": [
    "for i in range(0,data.shape[0]):\n",
    "    if data['경작지주소'].str.contains('서귀포시')[i] :\n",
    "        for j in Gangwon1.columns:\n",
    "            data.loc[i,j] =   jeju1.loc[0,j]\n",
    "    else :\n",
    "        pass"
   ]
  },
  {
   "cell_type": "code",
   "execution_count": null,
   "metadata": {},
   "outputs": [],
   "source": [
    "for i in range(0,data.shape[0]):\n",
    "    if data['경작지주소'].str.contains('제주')[i] :\n",
    "        for j in Gangwon1.columns:\n",
    "            data.loc[i,j] =   jeju2.loc[0,j]\n",
    "    else :\n",
    "        pass"
   ]
  },
  {
   "cell_type": "markdown",
   "metadata": {},
   "source": [
    "# 충청남도"
   ]
  },
  {
   "cell_type": "code",
   "execution_count": null,
   "metadata": {},
   "outputs": [],
   "source": [
    "for i in range(0,data.shape[0]):\n",
    "    if data['경작지주소'].str.contains('계룡시')[i] :\n",
    "        for j in Gangwon1.columns:\n",
    "            data.loc[i,j] =   Chungcheongnam7.loc[0,j]\n",
    "    else :\n",
    "        pass"
   ]
  },
  {
   "cell_type": "code",
   "execution_count": null,
   "metadata": {},
   "outputs": [],
   "source": [
    "for i in range(0,data.shape[0]):\n",
    "    if data['경작지주소'].str.contains('공주시')[i] :\n",
    "        for j in Gangwon1.columns:\n",
    "            data.loc[i,j] =   Sejong.loc[0,j]\n",
    "    else :\n",
    "        pass\n"
   ]
  },
  {
   "cell_type": "code",
   "execution_count": null,
   "metadata": {},
   "outputs": [],
   "source": [
    "for i in range(0,data.shape[0]):\n",
    "    if data['경작지주소'].str.contains('금산군')[i] :\n",
    "        for j in Gangwon1.columns:\n",
    "            data.loc[i,j] =   Chungcheongnam1.loc[0,j]\n",
    "    else :\n",
    "        pass"
   ]
  },
  {
   "cell_type": "code",
   "execution_count": null,
   "metadata": {},
   "outputs": [],
   "source": [
    "for i in range(0,data.shape[0]):\n",
    "    if data['경작지주소'].str.contains('논산시')[i] :\n",
    "        for j in Gangwon1.columns:\n",
    "            data.loc[i,j] =   Chungcheongnam3.loc[0,j]\n",
    "    else :\n",
    "        pass"
   ]
  },
  {
   "cell_type": "code",
   "execution_count": null,
   "metadata": {},
   "outputs": [],
   "source": [
    "for i in range(0,data.shape[0]):\n",
    "    if data['경작지주소'].str.contains('당진시')[i] :\n",
    "        for j in Gangwon1.columns:\n",
    "            data.loc[i,j] =   Chungcheongnam4.loc[0,j]\n",
    "    else :\n",
    "        pass"
   ]
  },
  {
   "cell_type": "code",
   "execution_count": null,
   "metadata": {},
   "outputs": [],
   "source": [
    "for i in range(0,data.shape[0]):\n",
    "    if data['경작지주소'].str.contains('부여군')[i] :\n",
    "        for j in Gangwon1.columns:\n",
    "            data.loc[i,j] =   Chungcheongnam3.loc[0,j]\n",
    "    else :\n",
    "        pass"
   ]
  },
  {
   "cell_type": "code",
   "execution_count": null,
   "metadata": {},
   "outputs": [],
   "source": [
    "for i in range(0,data.shape[0]):\n",
    "    if data['경작지주소'].str.contains('보령시')[i] :\n",
    "        for j in Gangwon1.columns:\n",
    "            data.loc[i,j] =   Chungcheongnam2.loc[0,j]\n",
    "    else :\n",
    "        pass"
   ]
  },
  {
   "cell_type": "code",
   "execution_count": null,
   "metadata": {},
   "outputs": [],
   "source": [
    "for i in range(0,data.shape[0]):\n",
    "    if data['경작지주소'].str.contains('서산시')[i] :\n",
    "        for j in Gangwon1.columns:\n",
    "            data.loc[i,j] =   Chungcheongnam4.loc[0,j]\n",
    "    else :\n",
    "        pass"
   ]
  },
  {
   "cell_type": "code",
   "execution_count": null,
   "metadata": {},
   "outputs": [],
   "source": [
    "for i in range(0,data.shape[0]):\n",
    "    if data['경작지주소'].str.contains('서천군')[i] :\n",
    "        for j in Gangwon1.columns:\n",
    "            data.loc[i,j] =   Chungcheongnam2.loc[0,j]\n",
    "    else :\n",
    "        pass"
   ]
  },
  {
   "cell_type": "code",
   "execution_count": null,
   "metadata": {},
   "outputs": [],
   "source": [
    "for i in range(0,data.shape[0]):\n",
    "    if data['경작지주소'].str.contains('아산시')[i] :\n",
    "        for j in Gangwon1.columns:\n",
    "            data.loc[i,j] =   Chungcheongnam5.loc[0,j]\n",
    "    else :\n",
    "        pass"
   ]
  },
  {
   "cell_type": "code",
   "execution_count": null,
   "metadata": {},
   "outputs": [],
   "source": [
    "for i in range(0,data.shape[0]):\n",
    "    if data['경작지주소'].str.contains('예산군')[i] :\n",
    "        for j in Gangwon1.columns:\n",
    "            data.loc[i,j] =   Chungcheongnam6.loc[0,j]\n",
    "    else :\n",
    "        pass"
   ]
  },
  {
   "cell_type": "code",
   "execution_count": null,
   "metadata": {},
   "outputs": [],
   "source": [
    "for i in range(0,data.shape[0]):\n",
    "    if data['경작지주소'].str.contains('천안시북구')[i] :\n",
    "        for j in Gangwon1.columns:\n",
    "            data.loc[i,j] =   Chungcheongnam5.loc[0,j]\n",
    "    else :\n",
    "        pass"
   ]
  },
  {
   "cell_type": "code",
   "execution_count": null,
   "metadata": {},
   "outputs": [],
   "source": [
    "for i in range(0,data.shape[0]):\n",
    "    if data['경작지주소'].str.contains('천안시동남구')[i] :\n",
    "        for j in Gangwon1.columns:\n",
    "            data.loc[i,j] =   Chungcheongnam5.loc[0,j]\n",
    "    else :\n",
    "        pass"
   ]
  },
  {
   "cell_type": "code",
   "execution_count": null,
   "metadata": {},
   "outputs": [],
   "source": [
    "for i in range(0,data.shape[0]):\n",
    "    if data['경작지주소'].str.contains('청양군')[i] :\n",
    "        for j in Gangwon1.columns:\n",
    "            data.loc[i,j] =   Chungcheongnam6.loc[0,j]\n",
    "    else :\n",
    "        pass"
   ]
  },
  {
   "cell_type": "code",
   "execution_count": null,
   "metadata": {},
   "outputs": [],
   "source": [
    "for i in range(0,data.shape[0]):\n",
    "    if data['경작지주소'].str.contains('태안군')[i] :\n",
    "        for j in Gangwon1.columns:\n",
    "            data.loc[i,j] =   Chungcheongnam6.loc[0,j]\n",
    "    else :\n",
    "        pass"
   ]
  },
  {
   "cell_type": "code",
   "execution_count": null,
   "metadata": {},
   "outputs": [],
   "source": [
    "for i in range(0,data.shape[0]):\n",
    "    if data['경작지주소'].str.contains('홍성군')[i] :\n",
    "        for j in Gangwon1.columns:\n",
    "            data.loc[i,j] =   Chungcheongnam6.loc[0,j]\n",
    "    else :\n",
    "        pass"
   ]
  },
  {
   "cell_type": "markdown",
   "metadata": {},
   "source": [
    "# 충청북도"
   ]
  },
  {
   "cell_type": "code",
   "execution_count": null,
   "metadata": {},
   "outputs": [],
   "source": [
    "for i in range(0,data.shape[0]):\n",
    "    if data['경작지주소'].str.contains('괴산군')[i] :\n",
    "        for j in Gangwon1.columns:\n",
    "            data.loc[i,j] =   Chungcheongbuk5.loc[0,j]\n",
    "    else :\n",
    "        pass"
   ]
  },
  {
   "cell_type": "code",
   "execution_count": null,
   "metadata": {},
   "outputs": [],
   "source": [
    "for i in range(0,data.shape[0]):\n",
    "    if data['경작지주소'].str.contains('단양군')[i] :\n",
    "        for j in Gangwon1.columns:\n",
    "            data.loc[i,j] =   Chungcheongbuk2.loc[0,j]\n",
    "    else :\n",
    "        pass"
   ]
  },
  {
   "cell_type": "code",
   "execution_count": null,
   "metadata": {},
   "outputs": [],
   "source": [
    "for i in range(0,data.shape[0]):\n",
    "    if data['경작지주소'].str.contains('보은군')[i] :\n",
    "        for j in Gangwon1.columns:\n",
    "            data.loc[i,j] =   Chungcheongbuk1.loc[0,j]\n",
    "    else :\n",
    "        pass"
   ]
  },
  {
   "cell_type": "code",
   "execution_count": null,
   "metadata": {},
   "outputs": [],
   "source": [
    "for i in range(0,data.shape[0]):\n",
    "    if data['경작지주소'].str.contains('영동군')[i] :\n",
    "        for j in Gangwon1.columns:\n",
    "            data.loc[i,j] =   Chungcheongnam7.loc[0,j]\n",
    "    else :\n",
    "        pass"
   ]
  },
  {
   "cell_type": "code",
   "execution_count": null,
   "metadata": {},
   "outputs": [],
   "source": [
    "for i in range(0,data.shape[0]):\n",
    "    if data['경작지주소'].str.contains('옥천군')[i] :\n",
    "        for j in Gangwon1.columns:\n",
    "            data.loc[i,j] =   Daejeon.loc[0,j]\n",
    "    else :\n",
    "        pass"
   ]
  },
  {
   "cell_type": "code",
   "execution_count": null,
   "metadata": {},
   "outputs": [],
   "source": [
    "for i in range(0,data.shape[0]):\n",
    "    if data['경작지주소'].str.contains('음성군')[i] :\n",
    "        for j in Gangwon1.columns:\n",
    "            data.loc[i,j] =   Chungcheongbuk5.loc[0,j]\n",
    "    else :\n",
    "        pass"
   ]
  },
  {
   "cell_type": "code",
   "execution_count": null,
   "metadata": {},
   "outputs": [],
   "source": [
    "for i in range(0,data.shape[0]):\n",
    "    if data['경작지주소'].str.contains('제천시')[i] :\n",
    "        for j in Gangwon1.columns:\n",
    "            data.loc[i,j] =   Chungcheongbuk2.loc[0,j]\n",
    "    else :\n",
    "        pass"
   ]
  },
  {
   "cell_type": "code",
   "execution_count": null,
   "metadata": {},
   "outputs": [],
   "source": [
    "for i in range(0,data.shape[0]):\n",
    "    if data['경작지주소'].str.contains('증평군')[i] :\n",
    "        for j in Gangwon1.columns:\n",
    "            data.loc[i,j] =   Chungcheongbuk3.loc[0,j]\n",
    "    else :\n",
    "        pass"
   ]
  },
  {
   "cell_type": "code",
   "execution_count": null,
   "metadata": {},
   "outputs": [],
   "source": [
    "for i in range(0,data.shape[0]):\n",
    "    if data['경작지주소'].str.contains('진천군')[i] :\n",
    "        for j in Gangwon1.columns:\n",
    "            data.loc[i,j] =   Chungcheongbuk3.loc[0,j]\n",
    "    else :\n",
    "        pass"
   ]
  },
  {
   "cell_type": "code",
   "execution_count": null,
   "metadata": {},
   "outputs": [],
   "source": [
    "for i in range(0,data.shape[0]):\n",
    "    if data['경작지주소'].str.contains('청주시상당구')[i] :\n",
    "        for j in Gangwon1.columns:\n",
    "            data.loc[i,j] =   Chungcheongbuk3.loc[0,j]\n",
    "    else :\n",
    "        pass"
   ]
  },
  {
   "cell_type": "code",
   "execution_count": null,
   "metadata": {},
   "outputs": [],
   "source": [
    "for i in range(0,data.shape[0]):\n",
    "    if data['경작지주소'].str.contains('청주시서원구')[i] :\n",
    "        for j in Gangwon1.columns:\n",
    "            data.loc[i,j] =   Chungcheongbuk3.loc[0,j]\n",
    "    else :\n",
    "        pass"
   ]
  },
  {
   "cell_type": "code",
   "execution_count": null,
   "metadata": {},
   "outputs": [],
   "source": [
    "for i in range(0,data.shape[0]):\n",
    "    if data['경작지주소'].str.contains('청주시청원구')[i] :\n",
    "        for j in Gangwon1.columns:\n",
    "            data.loc[i,j] =   Chungcheongbuk3.loc[0,j]\n",
    "    else :\n",
    "        pass"
   ]
  },
  {
   "cell_type": "code",
   "execution_count": null,
   "metadata": {},
   "outputs": [],
   "source": [
    "data"
   ]
  },
  {
   "cell_type": "code",
   "execution_count": null,
   "metadata": {},
   "outputs": [],
   "source": [
    "submission.to_csv('강수량데이터만든거.csv',index = False)"
   ]
  },
  {
   "cell_type": "code",
   "execution_count": null,
   "metadata": {},
   "outputs": [],
   "source": []
  }
 ],
 "metadata": {
  "kernelspec": {
   "display_name": "Python 3",
   "language": "python",
   "name": "python3"
  },
  "language_info": {
   "codemirror_mode": {
    "name": "ipython",
    "version": 3
   },
   "file_extension": ".py",
   "mimetype": "text/x-python",
   "name": "python",
   "nbconvert_exporter": "python",
   "pygments_lexer": "ipython3",
   "version": "3.8.5"
  }
 },
 "nbformat": 4,
 "nbformat_minor": 4
}
